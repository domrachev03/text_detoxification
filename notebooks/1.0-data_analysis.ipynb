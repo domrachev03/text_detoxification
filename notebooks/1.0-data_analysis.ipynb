{
 "cells": [
  {
   "cell_type": "markdown",
   "metadata": {},
   "source": [
    "# Dataset analysis & preprocessing exploration\n",
    "by Domrachev Ivan, B20-RO-01"
   ]
  },
  {
   "cell_type": "code",
   "execution_count": 1,
   "metadata": {},
   "outputs": [],
   "source": [
    "import numpy as np \n",
    "import pandas as pd \n",
    "from matplotlib import pyplot as plt\n",
    "import wordcloud\n",
    "from PIL import Image\n",
    "pd.options.display.max_colwidth = 150\n",
    "\n",
    "from collections import Counter\n",
    "import seaborn as sns\n",
    "import nltk\n",
    "from nltk.tokenize import word_tokenize\n",
    "from nltk.stem.porter import PorterStemmer\n",
    "from nltk.stem import WordNetLemmatizer\n",
    "import gensim\n",
    "from nltk.corpus import stopwords\n",
    "import pyLDAvis\n",
    "import pyLDAvis.gensim"
   ]
  },
  {
   "cell_type": "markdown",
   "metadata": {},
   "source": [
    "# Raw data investigation"
   ]
  },
  {
   "cell_type": "code",
   "execution_count": 2,
   "metadata": {},
   "outputs": [
    {
     "data": {
      "text/html": [
       "<div>\n",
       "<style scoped>\n",
       "    .dataframe tbody tr th:only-of-type {\n",
       "        vertical-align: middle;\n",
       "    }\n",
       "\n",
       "    .dataframe tbody tr th {\n",
       "        vertical-align: top;\n",
       "    }\n",
       "\n",
       "    .dataframe thead th {\n",
       "        text-align: right;\n",
       "    }\n",
       "</style>\n",
       "<table border=\"1\" class=\"dataframe\">\n",
       "  <thead>\n",
       "    <tr style=\"text-align: right;\">\n",
       "      <th></th>\n",
       "      <th>reference</th>\n",
       "      <th>translation</th>\n",
       "      <th>similarity</th>\n",
       "      <th>lenght_diff</th>\n",
       "      <th>ref_tox</th>\n",
       "      <th>trn_tox</th>\n",
       "    </tr>\n",
       "  </thead>\n",
       "  <tbody>\n",
       "    <tr>\n",
       "      <th>0</th>\n",
       "      <td>If Alkar is flooding her with psychic waste, that explains the high level of neurotransmitters.</td>\n",
       "      <td>if Alkar floods her with her mental waste, it would explain the high levels of neurotransmitter.</td>\n",
       "      <td>0.785171</td>\n",
       "      <td>0.010309</td>\n",
       "      <td>0.014195</td>\n",
       "      <td>0.981983</td>\n",
       "    </tr>\n",
       "    <tr>\n",
       "      <th>1</th>\n",
       "      <td>Now you're getting nasty.</td>\n",
       "      <td>you're becoming disgusting.</td>\n",
       "      <td>0.749687</td>\n",
       "      <td>0.071429</td>\n",
       "      <td>0.065473</td>\n",
       "      <td>0.999039</td>\n",
       "    </tr>\n",
       "    <tr>\n",
       "      <th>2</th>\n",
       "      <td>Well, we could spare your life, for one.</td>\n",
       "      <td>well, we can spare your life.</td>\n",
       "      <td>0.919051</td>\n",
       "      <td>0.268293</td>\n",
       "      <td>0.213313</td>\n",
       "      <td>0.985068</td>\n",
       "    </tr>\n",
       "    <tr>\n",
       "      <th>3</th>\n",
       "      <td>Ah! Monkey, you've got to snap out of it.</td>\n",
       "      <td>monkey, you have to wake up.</td>\n",
       "      <td>0.664333</td>\n",
       "      <td>0.309524</td>\n",
       "      <td>0.053362</td>\n",
       "      <td>0.994215</td>\n",
       "    </tr>\n",
       "    <tr>\n",
       "      <th>4</th>\n",
       "      <td>I've got orders to put her down.</td>\n",
       "      <td>I have orders to kill her.</td>\n",
       "      <td>0.726639</td>\n",
       "      <td>0.181818</td>\n",
       "      <td>0.009402</td>\n",
       "      <td>0.999348</td>\n",
       "    </tr>\n",
       "  </tbody>\n",
       "</table>\n",
       "</div>"
      ],
      "text/plain": [
       "                                                                                         reference  \\\n",
       "0  If Alkar is flooding her with psychic waste, that explains the high level of neurotransmitters.   \n",
       "1                                                                        Now you're getting nasty.   \n",
       "2                                                         Well, we could spare your life, for one.   \n",
       "3                                                        Ah! Monkey, you've got to snap out of it.   \n",
       "4                                                                 I've got orders to put her down.   \n",
       "\n",
       "                                                                                        translation  \\\n",
       "0  if Alkar floods her with her mental waste, it would explain the high levels of neurotransmitter.   \n",
       "1                                                                       you're becoming disgusting.   \n",
       "2                                                                     well, we can spare your life.   \n",
       "3                                                                      monkey, you have to wake up.   \n",
       "4                                                                        I have orders to kill her.   \n",
       "\n",
       "   similarity  lenght_diff   ref_tox   trn_tox  \n",
       "0    0.785171     0.010309  0.014195  0.981983  \n",
       "1    0.749687     0.071429  0.065473  0.999039  \n",
       "2    0.919051     0.268293  0.213313  0.985068  \n",
       "3    0.664333     0.309524  0.053362  0.994215  \n",
       "4    0.726639     0.181818  0.009402  0.999348  "
      ]
     },
     "execution_count": 2,
     "metadata": {},
     "output_type": "execute_result"
    }
   ],
   "source": [
    "raw_df = pd.read_csv('../../data/raw/filtered.tsv', sep='\\t', index_col=0)\n",
    "\n",
    "raw_df.head()"
   ]
  },
  {
   "cell_type": "markdown",
   "metadata": {},
   "source": [
    "The dataset contains the following data:\n",
    "1. Reference phrase\n",
    "2. Paraphrased version\n",
    "3. Cosine similarity of two texts\n",
    "4. Difference in lengths\n",
    "5. Reference text toxicity\n",
    "6. Paraphrased version toxicity"
   ]
  },
  {
   "cell_type": "markdown",
   "metadata": {},
   "source": [
    "According to the original [data-mining notebook](https://github.com/s-nlp/detox/blob/main/emnlp2021/style_transfer/mining_parallel_corpus/paranmt_mining.ipynb), the data-mining process looked like this:\n",
    "1. The base dataset is [ParaNMT-50M](https://www.cs.cmu.edu/~jwieting/wieting2017Millions.pdf), which is a English-English paraphrasing dataset. \n",
    "2. Then, the dataset was filtered w.r.t. cosine similarity (it should be in bounds of $[0.6; 0.95]$) and length difference (less than $0.4$).\n",
    "3. Then they estimated toxicity of the text using [fine-tuned RoBERTa](https://huggingface.co/s-nlp/roberta_toxicity_classifier_v1) for both initial text and paraphrased version and kept only those entries with difference in toxicity greater than 50%\n",
    "\n",
    "Let's validate that by analysing toxicity levels, cosinse similarities, and length differences:"
   ]
  },
  {
   "cell_type": "code",
   "execution_count": 3,
   "metadata": {},
   "outputs": [],
   "source": [
    "def plot_histograms(df: pd.DataFrame, save=False, fname_hist='image/raw_histogram.png', fname_diff = 'image/length_diff.png'):\n",
    "    fig, ax = plt.subplots(2, 2, figsize = (2*4, 2*3))\n",
    "    ax=ax.ravel()\n",
    "    i = 0\n",
    "    for col in df.columns:\n",
    "        if not pd.api.types.is_numeric_dtype(df[col]):\n",
    "            continue\n",
    "        ax[i].set_xlabel(\"Value\")\n",
    "        ax[i].set_ylabel(\"no. of entries\")\n",
    "        ax[i].set_title(col.replace('_', ' ').capitalize())\n",
    "        ax[i].hist(df[col], 20)\n",
    "        i += 1\n",
    "    plt.tight_layout()\n",
    "    if save:\n",
    "        plt.savefig(fname_hist)\n",
    "    else:\n",
    "        plt.show()\n",
    "    plt.clf()\n",
    "\n",
    "    plt.xlabel(\"Value\")\n",
    "    plt.ylabel(\"no. of entries\")\n",
    "    plt.title(\"Toxicity difference\")\n",
    "    plt.hist(df['ref_tox']-df[\"trn_tox\"], 20)\n",
    "    if save:\n",
    "        plt.savefig(fname_diff)\n",
    "    else:\n",
    "        plt.show()\n",
    "    plt.clf()"
   ]
  },
  {
   "cell_type": "code",
   "execution_count": 4,
   "metadata": {},
   "outputs": [
    {
     "data": {
      "text/plain": [
       "<Figure size 800x600 with 0 Axes>"
      ]
     },
     "metadata": {},
     "output_type": "display_data"
    }
   ],
   "source": [
    "plot_histograms(raw_df, save=True, fname_hist='image/raw_histogram.png');"
   ]
  },
  {
   "cell_type": "markdown",
   "metadata": {},
   "source": [
    "![](image/raw_histogram.png)\n",
    "![](image/length_diff.png)"
   ]
  },
  {
   "cell_type": "markdown",
   "metadata": {},
   "source": [
    "The graphs show that the filters from the paper are presented in the given data as well. Let's also visualize the word clouds: "
   ]
  },
  {
   "cell_type": "code",
   "execution_count": 5,
   "metadata": {},
   "outputs": [],
   "source": [
    "def visualize_ref_and_trans(ref: pd.DataFrame, trans: pd.DataFrame, save: bool = False, fname: str = 'wordcloud.png') -> Image:\n",
    "    general_mask = np.array(Image.open('image/devil_and_angel.png'))\n",
    "    h, w = general_mask.shape[0:2]\n",
    "    mask_ref, mask_trs = general_mask[:, :w//2], general_mask[:, w//2:] \n",
    "\n",
    "    stopwords = set(wordcloud.STOPWORDS)\n",
    "    stopwords.add(\"said\")\n",
    "\n",
    "    wc_ref = wordcloud.WordCloud(\n",
    "        background_color=\"white\", max_words=2000, mask=mask_ref,\n",
    "        stopwords=stopwords, contour_width=3, contour_color='steelblue'\n",
    "    )\n",
    "    wc_trs = wordcloud.WordCloud(\n",
    "        background_color=\"white\", max_words=2000, mask=mask_trs,\n",
    "        stopwords=stopwords, contour_width=3, contour_color='steelblue'\n",
    "    )\n",
    "\n",
    "    # generate word cloud\n",
    "    wc_ref.generate(' '.join(ref.to_list()))\n",
    "    wc_trs.generate(' '.join(trans.to_list()))\n",
    "    # store to file\n",
    "    wc_ref_img = wc_ref.to_image()\n",
    "    wc_trs_img = wc_trs.to_image()\n",
    "\n",
    "    wc_img = Image.new('RGB', (w, h))\n",
    "    wc_img.paste(wc_ref_img, (0, 0))\n",
    "    wc_img.paste(wc_trs_img, (wc_ref_img.width, 0))\n",
    "    if save:\n",
    "        wc_img.save('image/' + fname)\n",
    "    \n",
    "    return wc_img"
   ]
  },
  {
   "cell_type": "code",
   "execution_count": 6,
   "metadata": {},
   "outputs": [],
   "source": [
    "raw_img = visualize_ref_and_trans(raw_df['reference'], raw_df['translation'], save=True, fname='raw_wordcloud.png')"
   ]
  },
  {
   "cell_type": "markdown",
   "metadata": {},
   "source": [
    "![](image/raw_wordcloud.png)"
   ]
  },
  {
   "cell_type": "markdown",
   "metadata": {},
   "source": [
    "# Data preprocessing"
   ]
  },
  {
   "cell_type": "markdown",
   "metadata": {},
   "source": [
    "The first problem, which is very easy to notice is that translation is not guaranteed to be less toxic than paraphrased version, f.e:"
   ]
  },
  {
   "cell_type": "code",
   "execution_count": 3,
   "metadata": {},
   "outputs": [
    {
     "data": {
      "text/html": [
       "<div>\n",
       "<style scoped>\n",
       "    .dataframe tbody tr th:only-of-type {\n",
       "        vertical-align: middle;\n",
       "    }\n",
       "\n",
       "    .dataframe tbody tr th {\n",
       "        vertical-align: top;\n",
       "    }\n",
       "\n",
       "    .dataframe thead th {\n",
       "        text-align: right;\n",
       "    }\n",
       "</style>\n",
       "<table border=\"1\" class=\"dataframe\">\n",
       "  <thead>\n",
       "    <tr style=\"text-align: right;\">\n",
       "      <th></th>\n",
       "      <th>reference</th>\n",
       "      <th>translation</th>\n",
       "      <th>similarity</th>\n",
       "      <th>lenght_diff</th>\n",
       "      <th>ref_tox</th>\n",
       "      <th>trn_tox</th>\n",
       "    </tr>\n",
       "  </thead>\n",
       "  <tbody>\n",
       "    <tr>\n",
       "      <th>0</th>\n",
       "      <td>If Alkar is flooding her with psychic waste, that explains the high level of neurotransmitters.</td>\n",
       "      <td>if Alkar floods her with her mental waste, it would explain the high levels of neurotransmitter.</td>\n",
       "      <td>0.785171</td>\n",
       "      <td>0.010309</td>\n",
       "      <td>0.014195</td>\n",
       "      <td>0.981983</td>\n",
       "    </tr>\n",
       "    <tr>\n",
       "      <th>1</th>\n",
       "      <td>Now you're getting nasty.</td>\n",
       "      <td>you're becoming disgusting.</td>\n",
       "      <td>0.749687</td>\n",
       "      <td>0.071429</td>\n",
       "      <td>0.065473</td>\n",
       "      <td>0.999039</td>\n",
       "    </tr>\n",
       "    <tr>\n",
       "      <th>3</th>\n",
       "      <td>Ah! Monkey, you've got to snap out of it.</td>\n",
       "      <td>monkey, you have to wake up.</td>\n",
       "      <td>0.664333</td>\n",
       "      <td>0.309524</td>\n",
       "      <td>0.053362</td>\n",
       "      <td>0.994215</td>\n",
       "    </tr>\n",
       "    <tr>\n",
       "      <th>4</th>\n",
       "      <td>I've got orders to put her down.</td>\n",
       "      <td>I have orders to kill her.</td>\n",
       "      <td>0.726639</td>\n",
       "      <td>0.181818</td>\n",
       "      <td>0.009402</td>\n",
       "      <td>0.999348</td>\n",
       "    </tr>\n",
       "    <tr>\n",
       "      <th>8</th>\n",
       "      <td>Briggs, what the hell's happening?</td>\n",
       "      <td>Briggs, what the hell is going on?</td>\n",
       "      <td>0.920373</td>\n",
       "      <td>0.000000</td>\n",
       "      <td>0.159096</td>\n",
       "      <td>0.841071</td>\n",
       "    </tr>\n",
       "  </tbody>\n",
       "</table>\n",
       "</div>"
      ],
      "text/plain": [
       "                                                                                         reference  \\\n",
       "0  If Alkar is flooding her with psychic waste, that explains the high level of neurotransmitters.   \n",
       "1                                                                        Now you're getting nasty.   \n",
       "3                                                        Ah! Monkey, you've got to snap out of it.   \n",
       "4                                                                 I've got orders to put her down.   \n",
       "8                                                               Briggs, what the hell's happening?   \n",
       "\n",
       "                                                                                        translation  \\\n",
       "0  if Alkar floods her with her mental waste, it would explain the high levels of neurotransmitter.   \n",
       "1                                                                       you're becoming disgusting.   \n",
       "3                                                                      monkey, you have to wake up.   \n",
       "4                                                                        I have orders to kill her.   \n",
       "8                                                                Briggs, what the hell is going on?   \n",
       "\n",
       "   similarity  lenght_diff   ref_tox   trn_tox  \n",
       "0    0.785171     0.010309  0.014195  0.981983  \n",
       "1    0.749687     0.071429  0.065473  0.999039  \n",
       "3    0.664333     0.309524  0.053362  0.994215  \n",
       "4    0.726639     0.181818  0.009402  0.999348  \n",
       "8    0.920373     0.000000  0.159096  0.841071  "
      ]
     },
     "execution_count": 3,
     "metadata": {},
     "output_type": "execute_result"
    }
   ],
   "source": [
    "raw_df[(raw_df['ref_tox'] < 0.2) & (raw_df['trn_tox'] > 0.8)].head()"
   ]
  },
  {
   "cell_type": "markdown",
   "metadata": {},
   "source": [
    "To elimitate this, let's swap all the entries such that the reference toxicity would be always bigger:"
   ]
  },
  {
   "cell_type": "code",
   "execution_count": 4,
   "metadata": {},
   "outputs": [],
   "source": [
    "preprocessed_df = raw_df.copy(deep=True)\n",
    "cond = (raw_df[\"ref_tox\"] < raw_df[\"trn_tox\"])\n",
    "preprocessed_df.loc[cond, ['reference', 'translation', 'ref_tox', 'trn_tox']] = (\n",
    "    preprocessed_df.loc[cond, ['translation', 'reference', 'trn_tox', 'ref_tox']].values)\n",
    "\n",
    "assert (preprocessed_df[\"ref_tox\"] < preprocessed_df[\"trn_tox\"]).sum() == 0"
   ]
  },
  {
   "cell_type": "markdown",
   "metadata": {},
   "source": [
    "Now, let's examine some entries with intermediate resulting toxicity:"
   ]
  },
  {
   "cell_type": "code",
   "execution_count": 5,
   "metadata": {},
   "outputs": [
    {
     "data": {
      "text/html": [
       "<div>\n",
       "<style scoped>\n",
       "    .dataframe tbody tr th:only-of-type {\n",
       "        vertical-align: middle;\n",
       "    }\n",
       "\n",
       "    .dataframe tbody tr th {\n",
       "        vertical-align: top;\n",
       "    }\n",
       "\n",
       "    .dataframe thead th {\n",
       "        text-align: right;\n",
       "    }\n",
       "</style>\n",
       "<table border=\"1\" class=\"dataframe\">\n",
       "  <thead>\n",
       "    <tr style=\"text-align: right;\">\n",
       "      <th></th>\n",
       "      <th>reference</th>\n",
       "      <th>translation</th>\n",
       "      <th>similarity</th>\n",
       "      <th>lenght_diff</th>\n",
       "      <th>ref_tox</th>\n",
       "      <th>trn_tox</th>\n",
       "    </tr>\n",
       "  </thead>\n",
       "  <tbody>\n",
       "    <tr>\n",
       "      <th>64</th>\n",
       "      <td>Then nolan's gonna be destroyed.</td>\n",
       "      <td>Nolan will destroy it.</td>\n",
       "      <td>0.797925</td>\n",
       "      <td>0.303030</td>\n",
       "      <td>0.974547</td>\n",
       "      <td>0.303680</td>\n",
       "    </tr>\n",
       "    <tr>\n",
       "      <th>66</th>\n",
       "      <td>I hope you freeze the piss.</td>\n",
       "      <td>I hope your pee-pee freeze up.</td>\n",
       "      <td>0.808864</td>\n",
       "      <td>0.096774</td>\n",
       "      <td>0.979714</td>\n",
       "      <td>0.476306</td>\n",
       "    </tr>\n",
       "    <tr>\n",
       "      <th>98</th>\n",
       "      <td>\"don't even look back, you... you pussy.\"</td>\n",
       "      <td>'Don't you even turn around, you . . . you turd.' Jules went out.</td>\n",
       "      <td>0.616171</td>\n",
       "      <td>0.363636</td>\n",
       "      <td>0.999517</td>\n",
       "      <td>0.311901</td>\n",
       "    </tr>\n",
       "    <tr>\n",
       "      <th>121</th>\n",
       "      <td>There's enough people here to say that within two months at least one of you will die.</td>\n",
       "      <td>there's a lot of people to say that within 2 months at least one of you will die.</td>\n",
       "      <td>0.905752</td>\n",
       "      <td>0.057471</td>\n",
       "      <td>0.980124</td>\n",
       "      <td>0.446940</td>\n",
       "    </tr>\n",
       "    <tr>\n",
       "      <th>164</th>\n",
       "      <td>what do I do if you leave to be killed?</td>\n",
       "      <td>How do you expect me to behave when you go off and get killed?</td>\n",
       "      <td>0.649492</td>\n",
       "      <td>0.365079</td>\n",
       "      <td>0.944440</td>\n",
       "      <td>0.432443</td>\n",
       "    </tr>\n",
       "  </tbody>\n",
       "</table>\n",
       "</div>"
      ],
      "text/plain": [
       "                                                                                  reference  \\\n",
       "64                                                         Then nolan's gonna be destroyed.   \n",
       "66                                                              I hope you freeze the piss.   \n",
       "98                                                \"don't even look back, you... you pussy.\"   \n",
       "121  There's enough people here to say that within two months at least one of you will die.   \n",
       "164                                                 what do I do if you leave to be killed?   \n",
       "\n",
       "                                                                           translation  \\\n",
       "64                                                              Nolan will destroy it.   \n",
       "66                                                      I hope your pee-pee freeze up.   \n",
       "98                   'Don't you even turn around, you . . . you turd.' Jules went out.   \n",
       "121  there's a lot of people to say that within 2 months at least one of you will die.   \n",
       "164                     How do you expect me to behave when you go off and get killed?   \n",
       "\n",
       "     similarity  lenght_diff   ref_tox   trn_tox  \n",
       "64     0.797925     0.303030  0.974547  0.303680  \n",
       "66     0.808864     0.096774  0.979714  0.476306  \n",
       "98     0.616171     0.363636  0.999517  0.311901  \n",
       "121    0.905752     0.057471  0.980124  0.446940  \n",
       "164    0.649492     0.365079  0.944440  0.432443  "
      ]
     },
     "execution_count": 5,
     "metadata": {},
     "output_type": "execute_result"
    }
   ],
   "source": [
    "preprocessed_df[preprocessed_df['trn_tox'] > 0.3].head()"
   ]
  },
  {
   "cell_type": "markdown",
   "metadata": {},
   "source": [
    "and compare them to more extreme paraphrasing results:"
   ]
  },
  {
   "cell_type": "code",
   "execution_count": 6,
   "metadata": {},
   "outputs": [
    {
     "data": {
      "text/html": [
       "<div>\n",
       "<style scoped>\n",
       "    .dataframe tbody tr th:only-of-type {\n",
       "        vertical-align: middle;\n",
       "    }\n",
       "\n",
       "    .dataframe tbody tr th {\n",
       "        vertical-align: top;\n",
       "    }\n",
       "\n",
       "    .dataframe thead th {\n",
       "        text-align: right;\n",
       "    }\n",
       "</style>\n",
       "<table border=\"1\" class=\"dataframe\">\n",
       "  <thead>\n",
       "    <tr style=\"text-align: right;\">\n",
       "      <th></th>\n",
       "      <th>reference</th>\n",
       "      <th>translation</th>\n",
       "      <th>similarity</th>\n",
       "      <th>lenght_diff</th>\n",
       "      <th>ref_tox</th>\n",
       "      <th>trn_tox</th>\n",
       "    </tr>\n",
       "  </thead>\n",
       "  <tbody>\n",
       "    <tr>\n",
       "      <th>4</th>\n",
       "      <td>I have orders to kill her.</td>\n",
       "      <td>I've got orders to put her down.</td>\n",
       "      <td>0.726639</td>\n",
       "      <td>0.181818</td>\n",
       "      <td>0.999348</td>\n",
       "      <td>0.009402</td>\n",
       "    </tr>\n",
       "    <tr>\n",
       "      <th>6</th>\n",
       "      <td>They're all laughing at us, so we'll kick your ass.</td>\n",
       "      <td>they're laughing at us. We'll show you.</td>\n",
       "      <td>0.618866</td>\n",
       "      <td>0.230769</td>\n",
       "      <td>0.999492</td>\n",
       "      <td>0.000131</td>\n",
       "    </tr>\n",
       "    <tr>\n",
       "      <th>10</th>\n",
       "      <td>you'd probably want me to buy you some chocolates and flowers... and whispered some pretty rubbish.</td>\n",
       "      <td>I suppose you want me to buy you flowers and chocolates and whisper sweet nothings.</td>\n",
       "      <td>0.800661</td>\n",
       "      <td>0.160000</td>\n",
       "      <td>0.980341</td>\n",
       "      <td>0.000078</td>\n",
       "    </tr>\n",
       "    <tr>\n",
       "      <th>12</th>\n",
       "      <td>I'll freeze him!</td>\n",
       "      <td>Freezing him.</td>\n",
       "      <td>0.775646</td>\n",
       "      <td>0.176471</td>\n",
       "      <td>0.573710</td>\n",
       "      <td>0.007186</td>\n",
       "    </tr>\n",
       "    <tr>\n",
       "      <th>13</th>\n",
       "      <td>Come on, Cal, leave that shit alone.</td>\n",
       "      <td>come on, Cal, put it down.</td>\n",
       "      <td>0.660481</td>\n",
       "      <td>0.270270</td>\n",
       "      <td>0.999637</td>\n",
       "      <td>0.000279</td>\n",
       "    </tr>\n",
       "  </tbody>\n",
       "</table>\n",
       "</div>"
      ],
      "text/plain": [
       "                                                                                              reference  \\\n",
       "4                                                                            I have orders to kill her.   \n",
       "6                                                   They're all laughing at us, so we'll kick your ass.   \n",
       "10  you'd probably want me to buy you some chocolates and flowers... and whispered some pretty rubbish.   \n",
       "12                                                                                     I'll freeze him!   \n",
       "13                                                                 Come on, Cal, leave that shit alone.   \n",
       "\n",
       "                                                                            translation  \\\n",
       "4                                                      I've got orders to put her down.   \n",
       "6                                               they're laughing at us. We'll show you.   \n",
       "10  I suppose you want me to buy you flowers and chocolates and whisper sweet nothings.   \n",
       "12                                                                        Freezing him.   \n",
       "13                                                           come on, Cal, put it down.   \n",
       "\n",
       "    similarity  lenght_diff   ref_tox   trn_tox  \n",
       "4     0.726639     0.181818  0.999348  0.009402  \n",
       "6     0.618866     0.230769  0.999492  0.000131  \n",
       "10    0.800661     0.160000  0.980341  0.000078  \n",
       "12    0.775646     0.176471  0.573710  0.007186  \n",
       "13    0.660481     0.270270  0.999637  0.000279  "
      ]
     },
     "execution_count": 6,
     "metadata": {},
     "output_type": "execute_result"
    }
   ],
   "source": [
    "preprocessed_df[preprocessed_df['trn_tox'] < 0.01].head()"
   ]
  },
  {
   "cell_type": "markdown",
   "metadata": {},
   "source": [
    "From the imperical evaluation, one could see that the lowest translational toxicity are generally much more adequate paraphrasing examples than for the higher values. Since we are not able to learn on extended time period, it's possible to shrink the amount of the data and leave only the best-qualiry results:"
   ]
  },
  {
   "cell_type": "code",
   "execution_count": 7,
   "metadata": {},
   "outputs": [
    {
     "name": "stdout",
     "output_type": "stream",
     "text": [
      "Current length of the dataset: 577777\n",
      "Current length of the dataset: 355026\n"
     ]
    }
   ],
   "source": [
    "print(f\"Current length of the dataset: {len(preprocessed_df['trn_tox'])}\")\n",
    "preprocessed_df = preprocessed_df[preprocessed_df[\"trn_tox\"] < 0.01]\n",
    "print(f\"Current length of the dataset: {len(preprocessed_df['trn_tox'])}\")"
   ]
  },
  {
   "cell_type": "markdown",
   "metadata": {},
   "source": [
    "Let's visualize the new dataset distributions and pointclouds:"
   ]
  },
  {
   "cell_type": "code",
   "execution_count": 8,
   "metadata": {},
   "outputs": [
    {
     "ename": "NameError",
     "evalue": "name 'plot_histograms' is not defined",
     "output_type": "error",
     "traceback": [
      "\u001b[0;31m---------------------------------------------------------------------------\u001b[0m",
      "\u001b[0;31mNameError\u001b[0m                                 Traceback (most recent call last)",
      "\u001b[1;32m/home/dom_iva/Programms/text-detoxification/notebooks/research/data_analysis.ipynb Cell 26\u001b[0m line \u001b[0;36m1\n\u001b[0;32m----> <a href='vscode-notebook-cell:/home/dom_iva/Programms/text-detoxification/notebooks/research/data_analysis.ipynb#X34sZmlsZQ%3D%3D?line=0'>1</a>\u001b[0m plot_histograms(preprocessed_df, save\u001b[39m=\u001b[39m\u001b[39mTrue\u001b[39;00m, fname_hist\u001b[39m=\u001b[39m\u001b[39m'\u001b[39m\u001b[39mimage/preproc_histogram.png\u001b[39m\u001b[39m'\u001b[39m)\n",
      "\u001b[0;31mNameError\u001b[0m: name 'plot_histograms' is not defined"
     ]
    }
   ],
   "source": [
    "plot_histograms(preprocessed_df, save=True, fname_hist='image/preproc_histogram.png')"
   ]
  },
  {
   "cell_type": "markdown",
   "metadata": {},
   "source": [
    "![](image/preproc_histogram.png)"
   ]
  },
  {
   "cell_type": "markdown",
   "metadata": {},
   "source": [
    "Note, that the distribution of reference toxicity hasn't significantly changed. Hence, it retained most of representability."
   ]
  },
  {
   "cell_type": "markdown",
   "metadata": {},
   "source": [
    "## Advanced data visualisation"
   ]
  },
  {
   "cell_type": "markdown",
   "metadata": {},
   "source": [
    "First, let's visualize word frequencies:"
   ]
  },
  {
   "cell_type": "code",
   "execution_count": 26,
   "metadata": {},
   "outputs": [
    {
     "name": "stderr",
     "output_type": "stream",
     "text": [
      "[nltk_data] Downloading package stopwords to\n",
      "[nltk_data]     /home/dom_iva/nltk_data...\n",
      "[nltk_data]   Package stopwords is already up-to-date!\n"
     ]
    }
   ],
   "source": [
    "nltk.download('stopwords')\n",
    "import string \n",
    "\n",
    "stop = set(stopwords.words('english'))\n",
    "\n",
    "ref_tokenized = preprocessed_df['reference'].str.replace('[^\\w\\s]','', regex=True).apply(str.lower).apply(word_tokenize).to_list()\n",
    "ref_corpus = [word for sent in ref_tokenized for word in sent if word not in stop]\n",
    "\n",
    "tsn_tokenized = preprocessed_df['translation'].str.replace('[^\\w\\s]','', regex=True).apply(str.lower).apply(word_tokenize).to_list()\n",
    "tsn_corpus = [word for sent in tsn_tokenized for word in sent if word not in stop]"
   ]
  },
  {
   "cell_type": "code",
   "execution_count": 27,
   "metadata": {},
   "outputs": [],
   "source": [
    "ref_counter = Counter(ref_corpus)\n",
    "tsn_counter = Counter(tsn_corpus)\n",
    "ref_most_common = ref_counter.most_common(40)\n",
    "\n",
    "words, ref_counts, tsn_counts = [], [], []\n",
    "for word, count in ref_most_common[:20]:\n",
    "    words.append(word)\n",
    "    ref_counts.append(count)\n",
    "    tsn_counts.append(tsn_counter[word])"
   ]
  },
  {
   "cell_type": "code",
   "execution_count": 32,
   "metadata": {},
   "outputs": [
    {
     "data": {
      "image/png": "[encoded data removed]",
      "text/plain": [
       "<Figure size 900x600 with 1 Axes>"
      ]
     },
     "metadata": {},
     "output_type": "display_data"
    }
   ],
   "source": [
    "plt.figure(figsize=(9, 6))\n",
    "plt.barh(y=words[::-1], width=ref_counts[::-1], label='Reference')\n",
    "plt.barh(y=words[::-1], width=tsn_counts[::-1], label='Translation', alpha=0.8)\n",
    "plt.title('Words distribution')\n",
    "plt.xlabel('Number of occurencies')\n",
    "plt.legend()\n",
    "plt.savefig('image/word_frequencies.png')"
   ]
  },
  {
   "cell_type": "markdown",
   "metadata": {},
   "source": [
    "Note that the translated dataset contains much less curses and offensive words. This might suggest that the dataset was preprocessed pretty well."
   ]
  },
  {
   "cell_type": "markdown",
   "metadata": {},
   "source": [
    "Now, let's try to perform topic modelling, i.e. use unsupervised learning to separate the sentences on the different topics."
   ]
  },
  {
   "cell_type": "code",
   "execution_count": 44,
   "metadata": {},
   "outputs": [],
   "source": [
    "topic_modelling_corpus = [[word for word in sent if word not in stop] for sent in ref_tokenized[:20000]]"
   ]
  },
  {
   "cell_type": "code",
   "execution_count": 45,
   "metadata": {},
   "outputs": [],
   "source": [
    "dic = gensim.corpora.Dictionary(topic_modelling_corpus)\n",
    "bow_corpus = [dic.doc2bow(doc) for doc in topic_modelling_corpus]"
   ]
  },
  {
   "cell_type": "code",
   "execution_count": 48,
   "metadata": {},
   "outputs": [
    {
     "data": {
      "text/plain": [
       "[(0,\n",
       "  '0.036*\"hell\" + 0.022*\"want\" + 0.013*\"look\" + 0.013*\"dont\" + 0.012*\"shoot\" + 0.012*\"like\" + 0.009*\"crap\" + 0.009*\"one\" + 0.008*\"old\" + 0.007*\"fucking\"'),\n",
       " (1,\n",
       "  '0.026*\"shit\" + 0.022*\"know\" + 0.021*\"like\" + 0.020*\"dont\" + 0.016*\"youre\" + 0.014*\"crazy\" + 0.014*\"give\" + 0.014*\"fucking\" + 0.009*\"hes\" + 0.008*\"na\"'),\n",
       " (2,\n",
       "  '0.034*\"fucking\" + 0.030*\"damn\" + 0.022*\"hes\" + 0.018*\"like\" + 0.015*\"die\" + 0.012*\"youre\" + 0.011*\"kill\" + 0.008*\"us\" + 0.007*\"im\" + 0.007*\"fool\"'),\n",
       " (3,\n",
       "  '0.024*\"shit\" + 0.021*\"oh\" + 0.016*\"got\" + 0.016*\"damn\" + 0.014*\"fucking\" + 0.011*\"thats\" + 0.010*\"car\" + 0.010*\"would\" + 0.010*\"god\" + 0.009*\"ill\"'),\n",
       " (4,\n",
       "  '0.053*\"fuck\" + 0.041*\"get\" + 0.025*\"shit\" + 0.017*\"im\" + 0.012*\"youre\" + 0.010*\"go\" + 0.008*\"hell\" + 0.007*\"dont\" + 0.006*\"someone\" + 0.006*\"going\"'),\n",
       " (5,\n",
       "  '0.021*\"fucking\" + 0.018*\"think\" + 0.017*\"stupid\" + 0.015*\"youre\" + 0.015*\"dont\" + 0.011*\"shit\" + 0.010*\"im\" + 0.010*\"know\" + 0.009*\"balls\" + 0.008*\"hell\"'),\n",
       " (6,\n",
       "  '0.012*\"killed\" + 0.011*\"man\" + 0.010*\"said\" + 0.009*\"know\" + 0.009*\"ass\" + 0.008*\"hey\" + 0.008*\"like\" + 0.007*\"dont\" + 0.007*\"one\" + 0.006*\"little\"'),\n",
       " (7,\n",
       "  '0.026*\"na\" + 0.023*\"gon\" + 0.022*\"im\" + 0.015*\"dont\" + 0.015*\"shut\" + 0.012*\"damn\" + 0.010*\"well\" + 0.009*\"could\" + 0.009*\"shit\" + 0.009*\"want\"')]"
      ]
     },
     "execution_count": 48,
     "metadata": {},
     "output_type": "execute_result"
    }
   ],
   "source": [
    "def plot_lda_vis(lda_model, bow_corpus, dic):\n",
    "    pyLDAvis.enable_notebook()\n",
    "    vis = pyLDAvis.gensim.prepare(lda_model, bow_corpus, dic)\n",
    "    return vis\n",
    "\n",
    "\n",
    "lda_model = gensim.models.LdaMulticore(bow_corpus,\n",
    "                                        num_topics = 8,\n",
    "                                        id2word = dic,\n",
    "                                        passes = 10,\n",
    "                                        workers = 8)\n",
    "lda_model.show_topics()"
   ]
  },
  {
   "cell_type": "code",
   "execution_count": 49,
   "metadata": {},
   "outputs": [
    {
     "data": {
      "text/html": [
       "\n",
       "<link rel=\"stylesheet\" type=\"text/css\" href=\"https://cdn.jsdelivr.net/gh/bmabey/pyLDAvis@3.4.0/pyLDAvis/js/ldavis.v1.0.0.css\">\n",
       "\n",
       "\n",
       "<div id=\"ldavis_el706293140130285381984367903847\" style=\"background-color:white;\"></div>\n",
       "<script type=\"text/javascript\">\n",
       "\n",
       "var ldavis_el706293140130285381984367903847_data = {\"mdsDat\": {\"x\": [-0.03324721134919501, -0.010460739714463301, -0.009170266424459728, -0.17269096877325332, 0.15033635278271543, 0.06887882738235598, 0.011541076436711983, -0.005187070340411744], \"y\": [0.040691481129877756, 0.10036515975436455, -0.07150952334736944, -0.0025282060612639326, -0.010416855576294176, 0.013330130177162903, 0.09538041142489177, -0.16531259750136945], \"topics\": [1, 2, 3, 4, 5, 6, 7, 8], \"cluster\": [1, 1, 1, 1, 1, 1, 1, 1], \"Freq\": [15.642199445964048, 13.11824454881001, 12.909793846562081, 12.804720411062629, 12.744791879897646, 11.131268340918835, 10.929592317034881, 10.719389209749869]}, \"tinfo\": {\"Term\": [\"fuck\", \"hell\", \"get\", \"na\", \"damn\", \"gon\", \"shit\", \"want\", \"fucking\", \"oh\", \"hes\", \"think\", \"stupid\", \"im\", \"crazy\", \"dont\", \"die\", \"shoot\", \"know\", \"give\", \"killed\", \"look\", \"car\", \"god\", \"like\", \"youre\", \"got\", \"shut\", \"time\", \"man\", \"working\", \"female\", \"cure\", \"lazy\", \"message\", \"bird\", \"gland\", \"career\", \"pigeon\", \"wondered\", \"males\", \"someday\", \"letters\", \"carpet\", \"tiger\", \"jenny\", \"bouquet\", \"carry\", \"spider\", \"bullets\", \"revolutionary\", \"beaumont\", \"soup\", \"confidential\", \"hideous\", \"laughed\", \"pictures\", \"a4\", \"homosexual\", \"stayed\", \"horny\", \"aint\", \"pathetic\", \"understand\", \"na\", \"gon\", \"listen\", \"wan\", \"tonight\", \"something\", \"shut\", \"hard\", \"sit\", \"trash\", \"could\", \"funny\", \"call\", \"dump\", \"stay\", \"im\", \"well\", \"sorry\", \"whatever\", \"havent\", \"back\", \"sex\", \"tell\", \"thing\", \"dont\", \"take\", \"damn\", \"want\", \"say\", \"hit\", \"put\", \"didnt\", \"shit\", \"think\", \"kill\", \"get\", \"like\", \"know\", \"hes\", \"fucking\", \"one\", \"youre\", \"jesus\", \"tired\", \"losers\", \"stinks\", \"punch\", \"belly\", \"monkeys\", \"goodbye\", \"free\", \"sweet\", \"eating\", \"spit\", \"cost\", \"scotty\", \"mole\", \"wore\", \"violence\", \"prattles\", \"franco\", \"rick\", \"plans\", \"friendly\", \"turkey\", \"cream\", \"blame\", \"tricking\", \"traitor\", \"paranoid\", \"christ\", \"9\", \"walk\", \"crazy\", \"happened\", \"hate\", \"throat\", \"piece\", \"daddy\", \"give\", \"pull\", \"nuts\", \"british\", \"tits\", \"legs\", \"kiss\", \"screw\", \"know\", \"pig\", \"ugly\", \"shit\", \"like\", \"girl\", \"dont\", \"probably\", \"youre\", \"asshole\", \"back\", \"mind\", \"hes\", \"fucking\", \"money\", \"na\", \"want\", \"gon\", \"youd\", \"okay\", \"loser\", \"still\", \"doesnt\", \"big\", \"go\", \"come\", \"think\", \"right\", \"said\", \"whole\", \"im\", \"thing\", \"birthday\", \"win\", \"straight\", \"dickhead\", \"harder\", \"troll\", \"eliminate\", \"floor\", \"brought\", \"faster\", \"liked\", \"fuckers\", \"fired\", \"cancer\", \"gangster\", \"wow\", \"ted\", \"panties\", \"stink\", \"lucy\", \"piss\", \"rats\", \"shake\", \"poison\", \"harvard\", \"cracked\", \"locker\", \"scary\", \"ron\", \"spaz\", \"freeze\", \"shoot\", \"powerful\", \"hell\", \"fat\", \"throw\", \"want\", \"crap\", \"killing\", \"look\", \"old\", \"real\", \"tom\", \"face\", \"gay\", \"bit\", \"take\", \"gun\", \"mad\", \"morning\", \"help\", \"one\", \"black\", \"make\", \"said\", \"dont\", \"going\", \"like\", \"would\", \"little\", \"see\", \"man\", \"ill\", \"ass\", \"need\", \"say\", \"get\", \"fucking\", \"could\", \"go\", \"youre\", \"fucked\", \"know\", \"sake\", \"outta\", \"gives\", \"christian\", \"names\", \"enjoy\", \"coward\", \"hide\", \"cunt\", \"rid\", \"mess\", \"anywhere\", \"calm\", \"insurance\", \"united\", \"failed\", \"sugar\", \"ways\", \"infected\", \"seize\", \"governors\", \"incompetent\", \"whine\", \"anus\", \"knowwhat\", \"remove\", \"fuck\", \"early\", \"questions\", \"matters\", \"bridge\", \"holy\", \"talking\", \"lets\", \"loose\", \"get\", \"someone\", \"fucks\", \"empty\", \"neck\", \"truth\", \"supposed\", \"bitch\", \"pussy\", \"run\", \"go\", \"shit\", \"useless\", \"im\", \"cops\", \"bullshit\", \"mean\", \"really\", \"find\", \"fucked\", \"head\", \"girls\", \"youre\", \"going\", \"hell\", \"maybe\", \"okay\", \"doesnt\", \"cut\", \"dont\", \"one\", \"man\", \"kill\", \"tell\", \"come\", \"sound\", \"devil\", \"bear\", \"reputation\", \"hungry\", \"smells\", \"knowing\", \"kidding\", \"cattle\", \"stealing\", \"robot\", \"played\", \"wooden\", \"puts\", \"suffer\", \"choke\", \"brave\", \"25\", \"cocaine\", \"bigass\", \"selfish\", \"tommy\", \"fatass\", \"cum\", \"happier\", \"dare\", \"quarterback\", \"ceiling\", \"6\", \"notion\", \"jim\", \"gift\", \"cute\", \"oil\", \"complete\", \"die\", \"screwed\", \"hes\", \"hole\", \"fear\", \"forget\", \"damn\", \"none\", \"fool\", \"alive\", \"fucking\", \"youll\", \"finger\", \"shame\", \"place\", \"two\", \"business\", \"kill\", \"us\", \"drop\", \"like\", \"sucks\", \"good\", \"fools\", \"dr\", \"youre\", \"hand\", \"never\", \"look\", \"foolish\", \"right\", \"arent\", \"man\", \"thats\", \"im\", \"dead\", \"old\", \"let\", \"always\", \"goddamn\", \"didnt\", \"make\", \"would\", \"one\", \"sex\", \"well\", \"cook\", \"prostitute\", \"hurts\", \"liars\", \"dork\", \"singing\", \"serve\", \"hates\", \"criminal\", \"criminals\", \"keys\", \"car\", \"listened\", \"heck\", \"owe\", \"ends\", \"coughed\", \"bam\", \"chart\", \"ianexo\", \"tortured\", \"worship\", \"scared\", \"flew\", \"records\", \"gosh\", \"bottom\", \"blocks\", \"tools\", \"nerve\", \"oh\", \"ta\", \"fag\", \"green\", \"god\", \"victim\", \"fuckin\", \"week\", \"shot\", \"got\", \"thats\", \"purpose\", \"dick\", \"problem\", \"six\", \"would\", \"shit\", \"last\", \"death\", \"time\", \"cant\", \"goddamn\", \"damn\", \"ill\", \"first\", \"show\", \"suck\", \"fucking\", \"woman\", \"theres\", \"kind\", \"shes\", \"thought\", \"see\", \"tell\", \"die\", \"like\", \"im\", \"get\", \"bomb\", \"prick\", \"doin\", \"welcome\", \"neither\", \"bored\", \"testicle\", \"jew\", \"grotesque\", \"remind\", \"daft\", \"battle\", \"packing\", \"ghosts\", \"erotic\", \"amazon\", \"condition\", \"juice\", \"democracy\", \"capitalism\", \"prostitutes\", \"matt\", \"busting\", \"dammit\", \"biting\", \"polio\", \"pox\", \"measles\", \"e\", \"punished\", \"garbage\", \"forgot\", \"paul\", \"anyway\", \"cousin\", \"stupid\", \"pulling\", \"touch\", \"balls\", \"brain\", \"think\", \"sometimes\", \"hold\", \"idea\", \"move\", \"box\", \"lot\", \"joke\", \"silly\", \"anything\", \"done\", \"hurt\", \"catch\", \"even\", \"fucking\", \"youre\", \"dead\", \"ive\", \"time\", \"dont\", \"job\", \"right\", \"know\", \"im\", \"shit\", \"hell\", \"come\", \"got\", \"ass\", \"one\", \"say\", \"little\", \"like\", \"see\", \"ill\", \"respect\", \"wallace\", \"yo\", \"pair\", \"laughing\", \"wheels\", \"weil\", \"protect\", \"baseball\", \"warned\", \"hat\", \"goofy\", \"vampire\", \"beasts\", \"weapon\", \"virgins\", \"row\", \"bait\", \"puppet\", \"recognize\", \"waited\", \"twat\", \"captured\", \"natalie\", \"kg\", \"gedda\", \"strap\", \"assassins\", \"present\", \"marsellus\", \"easy\", \"follow\", \"bill\", \"wine\", \"killed\", \"used\", \"mama\", \"wrong\", \"soul\", \"monkey\", \"bitches\", \"worry\", \"freaking\", \"hey\", \"shitting\", \"murder\", \"sounds\", \"burned\", \"ridiculous\", \"three\", \"bastard\", \"hells\", \"man\", \"said\", \"ok\", \"ass\", \"took\", \"much\", \"damned\", \"people\", \"night\", \"little\", \"know\", \"guys\", \"two\", \"god\", \"one\", \"ill\", \"poor\", \"like\", \"dont\", \"going\", \"get\", \"kill\", \"got\", \"fuck\", \"shit\", \"time\"], \"Freq\": [795.0, 683.0, 834.0, 553.0, 820.0, 491.0, 1257.0, 534.0, 1198.0, 271.0, 535.0, 369.0, 287.0, 890.0, 233.0, 1014.0, 298.0, 201.0, 708.0, 282.0, 170.0, 308.0, 126.0, 183.0, 969.0, 855.0, 434.0, 402.0, 291.0, 380.0, 22.16474498699306, 10.455082115780833, 9.56187733963107, 8.964192526699128, 8.878704268625329, 8.002577781995639, 6.583806002600576, 6.98073263173995, 6.52425373136474, 6.518062471086854, 6.077826063144315, 6.070728011431834, 5.99875449545085, 5.998082354163794, 7.334747327021788, 6.029844026491827, 5.59986491871183, 6.420096725992858, 5.530837207137077, 8.436379981472173, 5.1267853271522075, 5.126176343174018, 5.101984788867068, 5.1214257149414335, 5.104344198405581, 5.872479523912743, 5.0156275415435445, 5.089887628706831, 5.501741049844541, 7.98690647135629, 14.77754067443439, 69.73235167674174, 65.20125271774825, 32.11458246191355, 417.3840946890474, 372.0537503804596, 31.97414273510379, 46.52918620343258, 20.208487452064947, 102.00253899562897, 231.03069713398494, 37.44315262487909, 48.656036700632555, 30.936402688115322, 146.17708795588788, 20.383472843817646, 62.107529284129996, 18.33463683614158, 34.063161543290775, 348.78244508591786, 153.0576609328047, 41.96944978438977, 26.64392402807617, 20.637892612038097, 108.05135326489332, 82.8035358403699, 83.01331030625592, 85.21875246780242, 232.81870728611207, 86.04666826066139, 194.03767817445015, 138.72347073654197, 71.16977883436951, 56.85035915034085, 60.33944918146925, 73.16620626174542, 143.80592839191308, 73.42236861848787, 71.41263482203817, 91.80936609069514, 90.104402728702, 81.64596286734766, 72.03494360939179, 74.22678436042163, 61.953296369865704, 62.737988591343104, 39.8194576672556, 15.5801101468519, 34.12860380458785, 19.476174976991114, 11.131720396229316, 11.184100041392746, 8.383178140050626, 7.466988624672268, 17.313860086523807, 8.165703754654038, 11.604183388317557, 6.804780965302775, 5.51053917077202, 5.51052486594281, 5.509889267585473, 5.403891256372416, 6.233260897104435, 5.064596945422355, 5.06443727259901, 5.046326972201979, 5.385034011920413, 5.859080587263916, 4.9725546482633005, 4.941271533248767, 4.924933871822776, 4.574387459539427, 19.067859478485165, 4.556348683288447, 15.847081561017575, 4.475602948418333, 24.938768613037837, 191.3655327876064, 37.82913476440277, 66.80287815125233, 21.73530340508456, 33.02144095308419, 12.600189211284377, 184.6394979740204, 23.468051233477745, 17.090850118839903, 7.647145963446688, 27.09919835898545, 23.96255603429377, 28.208696377203413, 26.00849611311559, 296.74499390680916, 31.21950878475872, 29.360839797615817, 346.0144506275444, 274.3897965271587, 57.28556134474378, 268.89525750116667, 37.160389411467236, 209.71331190714199, 34.51042366646058, 92.55365536838217, 40.235525609959424, 116.54333954473043, 182.56410077230186, 49.19243952026794, 101.58698954250126, 96.1330669526579, 85.72240505640256, 37.27568478843287, 43.57501195931878, 41.24059373553936, 42.27945528035171, 43.35135866093743, 42.31239504923558, 58.97332087188811, 50.249369997457705, 56.519694707045595, 51.982914256882594, 45.58924635073886, 39.62551511252668, 45.027612465992746, 39.778318524915285, 13.23730233891745, 15.866370408086343, 15.260907535908963, 9.294831002728623, 9.400986183293723, 9.404269670535223, 10.6219640403855, 12.43316223595025, 13.207534083787083, 8.36652942519965, 8.006825110024412, 7.483226461349976, 7.821063436349308, 8.743251563936631, 7.876818799888601, 6.810883177320268, 6.903867883452945, 8.243945394218786, 19.293914089138838, 6.019937518622828, 37.620195521941866, 19.605588937869324, 6.752950743793042, 8.017191493962065, 5.542260893075563, 5.530342937762378, 5.472455400120956, 6.35779770251228, 5.435725238901946, 5.090842273146488, 9.244224969006998, 160.20205932513016, 9.54761005875512, 471.6611886509571, 62.647414673412015, 39.780734692533066, 292.0622803847455, 115.21619912118675, 42.357052378722734, 168.913370890579, 106.84996798729618, 45.51230175142068, 14.49955092927228, 62.21878223742342, 29.543891365318956, 27.718856866506876, 93.30220374951219, 33.902186112992055, 14.511701734433876, 20.279191589543224, 35.64488612292106, 113.20173442216624, 43.709776071288466, 67.98228777290437, 80.59544446357182, 164.9977800148319, 79.24447703718302, 152.6219536297907, 82.07913325976683, 75.77743715177759, 61.635957544952795, 75.26805299711735, 73.36526491166875, 68.59656697953831, 49.128213350366615, 50.83224202272596, 83.80189340882067, 94.80107496458145, 52.08185736738359, 54.013025740238696, 59.68697691964137, 48.811367104349166, 51.63890086098154, 22.026340309692404, 18.737227270701545, 18.971551164055043, 10.061039894886067, 10.495873200461517, 13.145050844594003, 10.881648261782937, 10.428041209417922, 8.258132247900718, 48.746515826798266, 20.802280546754666, 8.095045794875793, 13.523599137984649, 6.669312034555038, 7.127203824418016, 7.097597095893685, 7.041518131504713, 6.257889305929224, 5.427139689183598, 5.341210588159832, 5.414572283145445, 12.510756479867704, 5.788500728337211, 4.958956453459517, 4.960459923090649, 5.286860010043598, 684.7536373835055, 5.672707527732782, 9.423131768817465, 4.86209361106456, 6.478335163217227, 41.87201566102359, 77.85495285295936, 74.99979156706948, 7.270707434546663, 532.7893515331609, 78.8802708371471, 22.660286732902662, 7.233744875186478, 25.43437085277066, 16.33681573447664, 31.905482267072436, 76.0452644975573, 42.53449630756448, 26.752113680213814, 133.98261999713228, 317.9105011405125, 56.502580543114, 226.90126982262268, 27.136449425979723, 62.008606347948415, 59.1937791067813, 64.0171270525602, 51.692600797187836, 72.73101966550546, 51.406802692567624, 31.940037916465915, 151.85924826920726, 78.00125433553912, 102.18961114593911, 46.965637934628944, 42.74719801317063, 42.17280921475592, 38.35290044911491, 86.80857943471794, 65.37369743607967, 57.20243659936058, 54.40582005862518, 44.91698545932107, 42.87229997014835, 19.74427646087858, 19.09778130010824, 13.35588783981159, 10.506175886084025, 9.919328458804499, 10.31047894507542, 9.679146437833104, 7.9056658691478585, 7.488414193973292, 7.386036985023009, 6.997640476548051, 6.89067706071169, 6.9704387482360355, 6.071743525910606, 11.267245087090863, 6.469259111435538, 6.04407791835991, 6.021504840945283, 5.593781138908815, 7.7619865054725095, 8.025819231013006, 5.9078570567432696, 5.451446837220284, 6.773164242205193, 5.075032310699942, 6.635253507961161, 4.615516917358185, 4.601027733850369, 4.550926146797694, 4.5320738691712315, 7.8194294040393855, 6.952427463010714, 11.807435653226985, 6.553753494026597, 9.713604214025974, 197.80278297617502, 67.1627424261754, 281.7660219608897, 13.305662676832172, 14.044840533880423, 24.649821570971522, 381.88804612149795, 22.777453216920893, 84.30295934881778, 31.8583216420562, 435.28909689619854, 64.01727008452156, 14.844025959488846, 18.73157286806034, 41.97643305954138, 82.48381353128882, 32.474097855736375, 137.4576455501027, 104.6529711976207, 16.477001075079198, 229.6142344101991, 34.53205095900306, 73.9583757016259, 24.717159558335023, 18.025836384597774, 155.84734204852955, 31.404746156633887, 48.626155092420774, 76.86287423491146, 23.87864769038653, 70.95079756734442, 24.77967169917336, 75.69486913153261, 65.64866463020391, 95.63107816278816, 49.395928696243175, 45.590421178599556, 42.9554338537131, 37.48823653218865, 47.73669688891127, 48.70440832729528, 45.06966546231597, 49.914818378471885, 46.96762642835593, 40.52985401232138, 40.696814479617764, 11.178866724079251, 10.546225679165463, 14.265620788289645, 8.575002703769313, 8.972479714349804, 8.09167831182724, 7.267159098667249, 8.52307449266078, 10.70103926248865, 7.107943640704765, 7.03434264332626, 112.31584241372173, 6.1941652488774315, 6.085235090397783, 7.413385450617784, 6.5585189565379265, 5.706746044053579, 5.706542648444967, 5.688624807555929, 5.526814415296468, 5.6827591406494875, 5.681004689496487, 37.23131683288856, 5.598475281014756, 5.658362821568705, 5.578203299984744, 9.97578497971001, 5.2013092688809826, 5.210455838177318, 5.210397115896767, 232.9460563983366, 48.729031761947866, 14.996125958344823, 14.029542785947324, 109.34943687501256, 8.18729589966576, 80.49870147642457, 26.99894041953535, 73.45431633895178, 184.81271394813652, 119.98336870895638, 8.927903926435185, 52.38287246641621, 21.647545531059126, 16.810652300750952, 109.52248323436069, 272.47898219152864, 53.94100880244315, 52.6423895162491, 91.85505252080893, 74.65332689057445, 79.13274380925269, 174.91944656684063, 97.312364032183, 46.41296202998691, 33.174708207556336, 35.81702974465085, 157.26873890900603, 39.5696603523372, 43.65407512571137, 36.485508439687315, 49.95061266497786, 39.57207223058643, 51.49335392177743, 48.416211940361144, 43.78878863009957, 55.82607405414586, 47.67537427338845, 40.38693540125625, 21.589472145645136, 13.735233420569784, 9.09529770520817, 8.252242409572611, 8.174774065349894, 9.095168859729213, 6.3532011355502505, 8.512727381697196, 6.371772278659676, 8.523739804783625, 6.771347233772811, 5.790894984742192, 5.423165478207995, 5.412447467040982, 5.402412336912439, 5.404917093023357, 6.203036239417976, 6.143239696861564, 4.970738429740517, 4.970733920148754, 5.705600566127644, 4.880133966824465, 4.86350549142401, 17.59189298871259, 4.838845433092789, 4.893779347273375, 4.489949592331391, 4.489928977054758, 5.222230309547621, 4.425721087412566, 50.246732116545324, 25.50057150555673, 9.003868953340493, 24.02025291327526, 11.163131066255577, 187.40135808860327, 6.7171451619127, 25.12756899779623, 95.38138070236614, 44.60457828539294, 200.63809737027307, 22.753593624928538, 18.87023469663632, 31.08144900382689, 29.578858182052965, 10.987809734584399, 43.799113658242995, 23.663229821814973, 45.03561279687554, 44.76376945155352, 41.087318324098725, 21.115240898887514, 13.527489412573942, 74.75223514193858, 230.29892446912874, 169.38446184527803, 67.82231713298637, 54.06759841063396, 78.99311708214945, 164.2488665915535, 29.370478965845866, 71.83666810591471, 105.55150481612156, 106.6062648297761, 119.0883303721007, 85.97119237731653, 51.94974981156514, 68.53531709061782, 57.175712130410744, 65.8594284145492, 46.86657920631852, 48.5986232108377, 64.22080253609279, 41.66031220738624, 44.736449056195546, 12.318709582232767, 10.532985077774406, 17.78957653259951, 9.479180910599583, 12.010821580545185, 7.735796455970042, 9.327368728832099, 8.822010086007971, 7.256388003212016, 7.620225830337094, 7.9158511335561, 6.711519309860424, 11.721207577471997, 6.693785532144146, 8.73723963361532, 6.625452959149603, 6.275343061209746, 6.248301688113181, 5.801529527811739, 5.723972130124224, 5.762397315994303, 5.321660465656373, 5.273607342890985, 5.3087968899081375, 4.892714647236793, 4.892662836577558, 4.892507404599854, 4.880387185444173, 5.992346922097805, 4.8595899445413275, 18.142388166867256, 15.200480368912075, 7.232738964620696, 9.247136131983622, 128.8954375611331, 43.79326047252355, 12.14870111783974, 37.93115733385629, 13.44066308958289, 26.566284515479985, 21.644913834906706, 10.726365836017964, 17.730205308140615, 89.64104357247523, 16.189538271651077, 29.3356982010735, 16.825787067471563, 17.80056544705569, 66.02565410881569, 50.0107670420949, 57.50535328746293, 17.60953322808499, 120.2442503778078, 103.40750472407083, 17.848999567717645, 92.99661525580639, 33.06118029989441, 39.766174625877824, 40.930688694277165, 63.637051295945014, 42.15804024660566, 69.77150411508883, 100.89509718177278, 38.215448739449094, 47.01610588364207, 46.893332312700906, 73.3941458463531, 62.103455782603675, 25.95024314043557, 84.24726582835096, 80.46025035780409, 47.91694413412547, 67.05419426124061, 50.9208806642559, 41.3087801392275, 46.4549736979893, 47.311108195275644, 35.96975488884257], \"Total\": [795.0, 683.0, 834.0, 553.0, 820.0, 491.0, 1257.0, 534.0, 1198.0, 271.0, 535.0, 369.0, 287.0, 890.0, 233.0, 1014.0, 298.0, 201.0, 708.0, 282.0, 170.0, 308.0, 126.0, 183.0, 969.0, 855.0, 434.0, 402.0, 291.0, 380.0, 23.02364524883321, 11.288210246744365, 10.347430671786713, 9.772938650388642, 9.757561237026978, 8.804002680296335, 7.356048112934549, 7.8000163555029145, 7.328455111049497, 7.330358779228671, 6.85937847202898, 6.858666350425775, 6.780567315657387, 6.792010295839394, 8.319027308985373, 6.844973320718187, 6.375056757205387, 7.314820575069401, 6.307758058068825, 9.695647880105437, 5.892479574697333, 5.892673401736641, 5.867672100711453, 5.891322589782182, 5.877532809357617, 6.762566739260951, 5.788991281277765, 5.878662251586746, 6.3604555326942105, 9.240314772729576, 17.17625182404408, 84.5555157102114, 79.35591689036625, 38.90058363978, 553.972938216716, 491.9194074953337, 41.765831920141956, 63.9032809105017, 25.889341018778193, 154.25187038681264, 402.1589185857816, 53.39230443903259, 72.07030970271677, 43.495734890347244, 268.269540489405, 27.92616346199149, 102.24728158521621, 24.901895209093336, 53.612817953132144, 890.0540744062854, 346.23923263898473, 72.31807122040021, 42.29993966412032, 31.304750509193003, 312.72535196801755, 222.68459139766642, 227.1955333887727, 236.72400412906586, 1014.9864405587153, 244.7094608667065, 820.3054088986356, 534.3430677875373, 212.75946535691963, 148.22099610205055, 171.87916320396553, 269.3177566334519, 1257.4510300250704, 369.0840653124389, 380.730090343368, 834.3146470316846, 969.0958739083312, 708.033029803805, 535.3273522041027, 1198.1761424792578, 484.3573214623332, 855.9888455629648, 40.90513295584309, 16.430804766294095, 36.442157857695406, 20.819027097385362, 12.036685945679485, 12.126582867065427, 9.17396535692463, 8.243745386338269, 19.371901249825346, 9.151537219704581, 13.026383525581664, 7.661896127101917, 6.294868579009948, 6.295266010877376, 6.294873564100089, 6.201543540897419, 7.172808395711047, 5.831636456536424, 5.831487139284127, 5.818860374021669, 6.215599633904619, 6.7763560685487105, 5.752917200448034, 5.739560785253281, 5.728754091194036, 5.341429046468691, 22.279451792313893, 5.329093361030909, 18.54796533277672, 5.26218524183302, 29.47889251213933, 233.63402652047046, 45.95426043468358, 88.97076190685081, 27.401306603201355, 43.36967570912421, 15.483424350968109, 282.4026533742556, 30.895892974280688, 22.16787830850808, 9.155867671343547, 39.314112968914344, 34.3539098490771, 42.54276823694404, 39.052226840509775, 708.033029803805, 48.52891541047865, 48.44177224694125, 1257.4510300250704, 969.0958739083312, 120.04902930346293, 1014.9864405587153, 69.44390305364212, 855.9888455629648, 65.54534740434883, 312.72535196801755, 87.42923953675093, 535.3273522041027, 1198.1761424792578, 125.96593135547548, 553.972938216716, 534.3430677875373, 491.9194074953337, 86.11670973119784, 125.39959570005796, 116.38254468851905, 128.67141904929574, 141.22276132249567, 132.30825925826196, 371.25887707351694, 229.21970007125762, 369.0840653124389, 316.14048477408517, 309.0880532893873, 118.68213294322928, 890.0540744062854, 236.72400412906586, 14.120023175089234, 17.073422265049448, 16.501660889047322, 10.124825440307959, 10.241605018510812, 10.25453542100347, 11.616787632001756, 13.622542194048, 14.52331596003602, 9.2044883492917, 8.815520124713894, 8.257751449022848, 8.659807051453058, 9.682381722300518, 8.734676824302651, 7.621536678843766, 7.765704995974517, 9.30046553772775, 21.82776087155266, 6.813356081960358, 42.73448123964025, 22.299771527207625, 7.6851702333772725, 9.126162449973528, 6.324452938560997, 6.322908858128142, 6.258420682122162, 7.282541009666053, 6.245990064641687, 5.857312877774167, 10.655908679233638, 201.41472659217132, 11.15696324527124, 683.0455142146703, 89.80668990170665, 54.7436855754875, 534.3430677875373, 191.63639495812328, 62.454120102551165, 308.49325114716294, 187.4629026755707, 72.4783499930292, 18.543724304817573, 124.94602255297904, 50.38821784226477, 46.59392502264514, 244.7094608667065, 63.72935216785864, 19.871501091195057, 32.36209907156815, 73.63628204183708, 484.3573214623332, 112.04831318631523, 232.45997790845874, 309.0880532893873, 1014.9864405587153, 316.11154527616685, 969.0958739083312, 342.70146253876203, 323.4883540636617, 254.5475715072889, 380.8916287040763, 380.10587587681925, 330.39582351821235, 190.88820540909043, 212.75946535691963, 834.3146470316846, 1198.1761424792578, 268.269540489405, 371.25887707351694, 855.9888455629648, 222.21482155483508, 708.033029803805, 22.878014465084792, 19.564302175220394, 19.87204688607788, 10.85354269950494, 11.323661426819143, 14.312039976927528, 11.861239163399947, 11.391337635804136, 9.063271916132466, 53.54830140555862, 23.004612013035665, 8.975514076091237, 15.215983616548424, 7.5657733044996, 8.104341972818842, 8.110190632062245, 8.048925108047257, 7.155768049111525, 6.2067502393411, 6.130696859394772, 6.219741901714627, 14.381492774903506, 6.676948552482161, 5.737150662003599, 5.749776025787228, 6.128768890227682, 795.358457498848, 6.597580699477774, 10.962937957464343, 5.671269747244998, 7.558281170269336, 51.128726605742344, 98.25988042174765, 96.57525430419572, 8.57729613883429, 834.3146470316846, 114.26111183971327, 30.257123194925978, 8.573070885187386, 35.782999175024514, 21.66632371817883, 49.62137789283801, 149.0838528216639, 80.04998706662549, 45.38976409104728, 371.25887707351694, 1257.4510300250704, 128.19061765120745, 890.0540744062854, 47.74728991089531, 158.4584496898386, 155.40991190275975, 175.83570970362197, 128.37547423449996, 222.21482155483508, 130.59829134227851, 62.411840278309555, 855.9888455629648, 316.11154527616685, 683.0455142146703, 149.31551565831126, 125.39959570005796, 141.22276132249567, 114.80121457578306, 1014.9864405587153, 484.3573214623332, 380.8916287040763, 380.730090343368, 227.1955333887727, 229.21970007125762, 20.57499144201612, 20.117418623749565, 14.258800850476101, 11.29664422834923, 10.736973765683965, 11.193374700877422, 10.629839797490607, 8.690413959603243, 8.309475655037625, 8.231886943423193, 7.835710301286485, 7.722569647554267, 7.815132420801827, 6.849641663769937, 12.732431307645978, 7.317811896294821, 6.848987311244483, 6.834989872304344, 6.3669736762264995, 8.836109141481659, 9.168672294877272, 6.769506810312157, 6.2621302460507895, 7.799705095026924, 5.871301668913072, 7.7366726867878395, 5.389109854140605, 5.376431327552466, 5.321601023996797, 5.310555712828589, 9.191937669196452, 8.19756394180117, 14.129977181153873, 7.7278849060167865, 11.654508886969456, 298.46134215868045, 103.51387700960167, 535.3273522041027, 17.01802733922236, 18.097970384559147, 34.372040261930735, 820.3054088986356, 32.98527063680771, 159.72163483178184, 49.83641146352548, 1198.1761424792578, 116.51274574532911, 20.12109058578292, 27.027426925671293, 75.92700900182501, 182.5667273580377, 55.64392191257006, 380.730090343368, 274.32549164932993, 23.530268050835367, 969.0958739083312, 68.27113796217199, 221.13139283982, 44.26887498762589, 27.367127751514296, 855.9888455629648, 66.21538210222232, 140.04783219812361, 308.49325114716294, 44.3844980840172, 316.14048477408517, 48.78161056729513, 380.8916287040763, 292.8856652634969, 890.0540744062854, 216.7305737298583, 187.4629026755707, 179.11504189002613, 125.5054833318954, 252.6200020682362, 269.3177566334519, 232.45997790845874, 342.70146253876203, 484.3573214623332, 222.68459139766642, 346.23923263898473, 11.979376094978846, 11.405193172548737, 15.482560442726163, 9.422544151463384, 9.9016692616431, 8.93204466183555, 8.03087142908777, 9.421936894485913, 11.874277324511308, 7.934450859438651, 7.867425369316762, 126.07465278468479, 6.966161014820972, 6.86046385406873, 8.358550209193563, 7.437825129571083, 6.474336666128404, 6.4744460473283505, 6.473209618112763, 6.290524488850432, 6.4724105217191985, 6.471453480425088, 42.462528923814816, 6.392832141473359, 6.469413164887116, 6.391931779147294, 11.439159797461773, 5.969472788463157, 5.9815859697152955, 5.98166916666894, 271.5052959427386, 57.257085129493205, 17.441806549712286, 17.368758766273366, 183.87549185109208, 9.85882786716387, 148.1365273402502, 41.26192452816465, 141.2338005840039, 434.1235802378688, 292.8856652634969, 11.3286241568145, 111.18421796648724, 36.29997293918407, 26.58899161948016, 342.70146253876203, 1257.4510300250704, 132.73838403081356, 128.9685370807629, 291.05318645159866, 230.96982482048205, 252.6200020682362, 820.3054088986356, 380.10587587681925, 138.11978513502828, 80.9192911368329, 94.81679899220171, 1198.1761424792578, 112.38864875270788, 134.0630268401713, 98.09724027570873, 182.82104747153085, 127.46967002596475, 254.5475715072889, 227.1955333887727, 298.46134215868045, 969.0958739083312, 890.0540744062854, 834.3146470316846, 22.92325119303875, 14.724106116057692, 9.948405006901458, 9.033102701430934, 9.00980664012809, 10.033791443879938, 7.122305784597946, 9.550098598425173, 7.155725295935453, 9.58330614271053, 7.614669080534102, 6.599671867704707, 6.196379783368628, 6.193393951777278, 6.196370718637166, 6.20588620228588, 7.136923571349239, 7.06872316758824, 5.739816822688178, 5.739812412263964, 6.58838880420897, 5.664323251167316, 5.663197895965426, 20.50034265653192, 5.652406887625525, 5.729991594909719, 5.259024296251078, 5.259004592830791, 6.120957998058625, 5.194819810663083, 59.22078486729861, 30.191756236678813, 10.925436617895846, 30.800226801049277, 13.757791611349077, 287.56272842255834, 8.027363760017181, 34.57989033297627, 152.66858517489842, 65.66389073926486, 369.0840653124389, 32.00387335264596, 26.51690972715016, 52.504330697958856, 51.0110362966406, 14.872999144383964, 87.55334453263649, 39.859822244087695, 93.23017790864961, 93.54869450947457, 83.70946532860263, 36.26410705087335, 19.735339966508985, 226.43226570280618, 1198.1761424792578, 855.9888455629648, 216.7305737298583, 158.47187207096013, 291.05318645159866, 1014.9864405587153, 66.48762849273983, 316.14048477408517, 708.033029803805, 890.0540744062854, 1257.4510300250704, 683.0455142146703, 229.21970007125762, 434.1235802378688, 330.39582351821235, 484.3573214623332, 212.75946535691963, 323.4883540636617, 969.0958739083312, 254.5475715072889, 380.10587587681925, 13.14575787044889, 11.352698637499518, 19.290751319029663, 10.290197056394632, 13.153967069828376, 8.518425410035627, 10.296726197922851, 9.7565015925481, 8.032467680096799, 8.444239875269377, 8.822980027679085, 7.496108421600101, 13.147226538884151, 7.509567103411358, 9.811678589340884, 7.445400859436275, 7.05949627163586, 7.047772785733193, 6.585533543501339, 6.511059025648865, 6.573522809229642, 6.1009476324048055, 6.0497231326512, 6.100872378079108, 5.663483768926836, 5.663433370123649, 5.663280718660736, 5.651166191008183, 6.963114943955854, 5.652365751124386, 21.191860130258227, 17.984557971129625, 8.43694334806535, 10.849117440694483, 170.41434809823144, 55.5193345480067, 14.649949007972634, 49.49973428385873, 16.444772259851522, 35.32877877566054, 28.509303901897784, 13.109955333208127, 23.247568475610073, 146.8516180575812, 21.1908545219576, 42.78688693296131, 22.97946837303253, 25.190145801079876, 131.38536025816876, 95.50536902601796, 125.01039982085635, 26.17682259440476, 380.8916287040763, 309.0880532893873, 27.51239581612576, 330.39582351821235, 73.00787342393801, 98.0351327114139, 106.69004839016094, 235.72853175631857, 118.48673691181358, 323.4883540636617, 708.033029803805, 119.50271397505759, 182.5667273580377, 183.87549185109208, 484.3573214623332, 380.10587587681925, 61.28673615153734, 969.0958739083312, 1014.9864405587153, 316.11154527616685, 834.3146470316846, 380.730090343368, 434.1235802378688, 795.358457498848, 1257.4510300250704, 291.05318645159866], \"Category\": [\"Default\", \"Default\", \"Default\", \"Default\", \"Default\", \"Default\", \"Default\", \"Default\", \"Default\", \"Default\", \"Default\", \"Default\", \"Default\", \"Default\", \"Default\", \"Default\", \"Default\", \"Default\", \"Default\", \"Default\", \"Default\", \"Default\", \"Default\", \"Default\", \"Default\", \"Default\", \"Default\", \"Default\", \"Default\", \"Default\", \"Topic1\", \"Topic1\", \"Topic1\", \"Topic1\", \"Topic1\", \"Topic1\", \"Topic1\", \"Topic1\", \"Topic1\", \"Topic1\", \"Topic1\", \"Topic1\", \"Topic1\", \"Topic1\", \"Topic1\", \"Topic1\", \"Topic1\", \"Topic1\", \"Topic1\", \"Topic1\", \"Topic1\", \"Topic1\", \"Topic1\", \"Topic1\", \"Topic1\", \"Topic1\", \"Topic1\", \"Topic1\", \"Topic1\", \"Topic1\", \"Topic1\", \"Topic1\", \"Topic1\", \"Topic1\", \"Topic1\", \"Topic1\", \"Topic1\", \"Topic1\", \"Topic1\", \"Topic1\", \"Topic1\", \"Topic1\", \"Topic1\", \"Topic1\", \"Topic1\", \"Topic1\", \"Topic1\", \"Topic1\", \"Topic1\", \"Topic1\", \"Topic1\", \"Topic1\", \"Topic1\", \"Topic1\", \"Topic1\", \"Topic1\", \"Topic1\", \"Topic1\", \"Topic1\", \"Topic1\", \"Topic1\", \"Topic1\", \"Topic1\", \"Topic1\", \"Topic1\", \"Topic1\", \"Topic1\", \"Topic1\", \"Topic1\", \"Topic1\", \"Topic1\", \"Topic1\", \"Topic1\", \"Topic1\", \"Topic1\", \"Topic1\", \"Topic2\", \"Topic2\", \"Topic2\", \"Topic2\", \"Topic2\", \"Topic2\", \"Topic2\", \"Topic2\", \"Topic2\", \"Topic2\", \"Topic2\", \"Topic2\", \"Topic2\", \"Topic2\", \"Topic2\", \"Topic2\", \"Topic2\", \"Topic2\", \"Topic2\", \"Topic2\", \"Topic2\", \"Topic2\", \"Topic2\", \"Topic2\", \"Topic2\", \"Topic2\", \"Topic2\", \"Topic2\", \"Topic2\", \"Topic2\", \"Topic2\", \"Topic2\", \"Topic2\", \"Topic2\", \"Topic2\", \"Topic2\", \"Topic2\", \"Topic2\", \"Topic2\", \"Topic2\", \"Topic2\", \"Topic2\", \"Topic2\", \"Topic2\", \"Topic2\", \"Topic2\", \"Topic2\", \"Topic2\", \"Topic2\", \"Topic2\", \"Topic2\", \"Topic2\", \"Topic2\", \"Topic2\", \"Topic2\", \"Topic2\", \"Topic2\", \"Topic2\", \"Topic2\", \"Topic2\", \"Topic2\", \"Topic2\", \"Topic2\", \"Topic2\", \"Topic2\", \"Topic2\", \"Topic2\", \"Topic2\", \"Topic2\", \"Topic2\", \"Topic2\", \"Topic2\", \"Topic2\", \"Topic2\", \"Topic2\", \"Topic2\", \"Topic2\", \"Topic3\", \"Topic3\", \"Topic3\", \"Topic3\", \"Topic3\", \"Topic3\", \"Topic3\", \"Topic3\", \"Topic3\", \"Topic3\", \"Topic3\", \"Topic3\", \"Topic3\", \"Topic3\", \"Topic3\", \"Topic3\", \"Topic3\", \"Topic3\", \"Topic3\", \"Topic3\", \"Topic3\", \"Topic3\", \"Topic3\", \"Topic3\", \"Topic3\", \"Topic3\", \"Topic3\", \"Topic3\", \"Topic3\", \"Topic3\", \"Topic3\", \"Topic3\", \"Topic3\", \"Topic3\", \"Topic3\", \"Topic3\", \"Topic3\", \"Topic3\", \"Topic3\", \"Topic3\", \"Topic3\", \"Topic3\", \"Topic3\", \"Topic3\", \"Topic3\", \"Topic3\", \"Topic3\", \"Topic3\", \"Topic3\", \"Topic3\", \"Topic3\", \"Topic3\", \"Topic3\", \"Topic3\", \"Topic3\", \"Topic3\", \"Topic3\", \"Topic3\", \"Topic3\", \"Topic3\", \"Topic3\", \"Topic3\", \"Topic3\", \"Topic3\", \"Topic3\", \"Topic3\", \"Topic3\", \"Topic3\", \"Topic3\", \"Topic3\", \"Topic3\", \"Topic3\", \"Topic3\", \"Topic4\", \"Topic4\", \"Topic4\", \"Topic4\", \"Topic4\", \"Topic4\", \"Topic4\", \"Topic4\", \"Topic4\", \"Topic4\", \"Topic4\", \"Topic4\", \"Topic4\", \"Topic4\", \"Topic4\", \"Topic4\", \"Topic4\", \"Topic4\", \"Topic4\", \"Topic4\", \"Topic4\", \"Topic4\", \"Topic4\", \"Topic4\", \"Topic4\", \"Topic4\", \"Topic4\", \"Topic4\", \"Topic4\", \"Topic4\", \"Topic4\", \"Topic4\", \"Topic4\", \"Topic4\", \"Topic4\", \"Topic4\", \"Topic4\", \"Topic4\", \"Topic4\", \"Topic4\", \"Topic4\", \"Topic4\", \"Topic4\", \"Topic4\", \"Topic4\", \"Topic4\", \"Topic4\", \"Topic4\", \"Topic4\", \"Topic4\", \"Topic4\", \"Topic4\", \"Topic4\", \"Topic4\", \"Topic4\", \"Topic4\", \"Topic4\", \"Topic4\", \"Topic4\", \"Topic4\", \"Topic4\", \"Topic4\", \"Topic4\", \"Topic4\", \"Topic4\", \"Topic4\", \"Topic4\", \"Topic4\", \"Topic4\", \"Topic4\", \"Topic5\", \"Topic5\", \"Topic5\", \"Topic5\", \"Topic5\", \"Topic5\", \"Topic5\", \"Topic5\", \"Topic5\", \"Topic5\", \"Topic5\", \"Topic5\", \"Topic5\", \"Topic5\", \"Topic5\", \"Topic5\", \"Topic5\", \"Topic5\", \"Topic5\", \"Topic5\", \"Topic5\", \"Topic5\", \"Topic5\", \"Topic5\", \"Topic5\", \"Topic5\", \"Topic5\", \"Topic5\", \"Topic5\", \"Topic5\", \"Topic5\", \"Topic5\", \"Topic5\", \"Topic5\", \"Topic5\", \"Topic5\", \"Topic5\", \"Topic5\", \"Topic5\", \"Topic5\", \"Topic5\", \"Topic5\", \"Topic5\", \"Topic5\", \"Topic5\", \"Topic5\", \"Topic5\", \"Topic5\", \"Topic5\", \"Topic5\", \"Topic5\", \"Topic5\", \"Topic5\", \"Topic5\", \"Topic5\", \"Topic5\", \"Topic5\", \"Topic5\", \"Topic5\", \"Topic5\", \"Topic5\", \"Topic5\", \"Topic5\", \"Topic5\", \"Topic5\", \"Topic5\", \"Topic5\", \"Topic5\", \"Topic5\", \"Topic5\", \"Topic5\", \"Topic5\", \"Topic5\", \"Topic5\", \"Topic5\", \"Topic5\", \"Topic5\", \"Topic5\", \"Topic5\", \"Topic5\", \"Topic5\", \"Topic6\", \"Topic6\", \"Topic6\", \"Topic6\", \"Topic6\", \"Topic6\", \"Topic6\", \"Topic6\", \"Topic6\", \"Topic6\", \"Topic6\", \"Topic6\", \"Topic6\", \"Topic6\", \"Topic6\", \"Topic6\", \"Topic6\", \"Topic6\", \"Topic6\", \"Topic6\", \"Topic6\", \"Topic6\", \"Topic6\", \"Topic6\", \"Topic6\", \"Topic6\", \"Topic6\", \"Topic6\", \"Topic6\", \"Topic6\", \"Topic6\", \"Topic6\", \"Topic6\", \"Topic6\", \"Topic6\", \"Topic6\", \"Topic6\", \"Topic6\", \"Topic6\", \"Topic6\", \"Topic6\", \"Topic6\", \"Topic6\", \"Topic6\", \"Topic6\", \"Topic6\", \"Topic6\", \"Topic6\", \"Topic6\", \"Topic6\", \"Topic6\", \"Topic6\", \"Topic6\", \"Topic6\", \"Topic6\", \"Topic6\", \"Topic6\", \"Topic6\", \"Topic6\", \"Topic6\", \"Topic6\", \"Topic6\", \"Topic6\", \"Topic6\", \"Topic6\", \"Topic6\", \"Topic6\", \"Topic6\", \"Topic6\", \"Topic7\", \"Topic7\", \"Topic7\", \"Topic7\", \"Topic7\", \"Topic7\", \"Topic7\", \"Topic7\", \"Topic7\", \"Topic7\", \"Topic7\", \"Topic7\", \"Topic7\", \"Topic7\", \"Topic7\", \"Topic7\", \"Topic7\", \"Topic7\", \"Topic7\", \"Topic7\", \"Topic7\", \"Topic7\", \"Topic7\", \"Topic7\", \"Topic7\", \"Topic7\", \"Topic7\", \"Topic7\", \"Topic7\", \"Topic7\", \"Topic7\", \"Topic7\", \"Topic7\", \"Topic7\", \"Topic7\", \"Topic7\", \"Topic7\", \"Topic7\", \"Topic7\", \"Topic7\", \"Topic7\", \"Topic7\", \"Topic7\", \"Topic7\", \"Topic7\", \"Topic7\", \"Topic7\", \"Topic7\", \"Topic7\", \"Topic7\", \"Topic7\", \"Topic7\", \"Topic7\", \"Topic7\", \"Topic7\", \"Topic7\", \"Topic7\", \"Topic7\", \"Topic7\", \"Topic7\", \"Topic7\", \"Topic7\", \"Topic7\", \"Topic7\", \"Topic7\", \"Topic7\", \"Topic7\", \"Topic7\", \"Topic7\", \"Topic7\", \"Topic7\", \"Topic7\", \"Topic7\", \"Topic7\", \"Topic7\", \"Topic8\", \"Topic8\", \"Topic8\", \"Topic8\", \"Topic8\", \"Topic8\", \"Topic8\", \"Topic8\", \"Topic8\", \"Topic8\", \"Topic8\", \"Topic8\", \"Topic8\", \"Topic8\", \"Topic8\", \"Topic8\", \"Topic8\", \"Topic8\", \"Topic8\", \"Topic8\", \"Topic8\", \"Topic8\", \"Topic8\", \"Topic8\", \"Topic8\", \"Topic8\", \"Topic8\", \"Topic8\", \"Topic8\", \"Topic8\", \"Topic8\", \"Topic8\", \"Topic8\", \"Topic8\", \"Topic8\", \"Topic8\", \"Topic8\", \"Topic8\", \"Topic8\", \"Topic8\", \"Topic8\", \"Topic8\", \"Topic8\", \"Topic8\", \"Topic8\", \"Topic8\", \"Topic8\", \"Topic8\", \"Topic8\", \"Topic8\", \"Topic8\", \"Topic8\", \"Topic8\", \"Topic8\", \"Topic8\", \"Topic8\", \"Topic8\", \"Topic8\", \"Topic8\", \"Topic8\", \"Topic8\", \"Topic8\", \"Topic8\", \"Topic8\", \"Topic8\", \"Topic8\", \"Topic8\", \"Topic8\", \"Topic8\", \"Topic8\", \"Topic8\", \"Topic8\", \"Topic8\", \"Topic8\", \"Topic8\", \"Topic8\", \"Topic8\", \"Topic8\"], \"logprob\": [30.0, 29.0, 28.0, 27.0, 26.0, 25.0, 24.0, 23.0, 22.0, 21.0, 20.0, 19.0, 18.0, 17.0, 16.0, 15.0, 14.0, 13.0, 12.0, 11.0, 10.0, 9.0, 8.0, 7.0, 6.0, 5.0, 4.0, 3.0, 2.0, 1.0, -6.5718, -7.3232, -7.4125, -7.4771, -7.4866, -7.5905, -7.7857, -7.7271, -7.7948, -7.7957, -7.8656, -7.8668, -7.8787, -7.8788, -7.6777, -7.8736, -7.9475, -7.8109, -7.9599, -7.5377, -8.0358, -8.0359, -8.0407, -8.0369, -8.0402, -7.9, -8.0577, -8.043, -7.9652, -7.5925, -6.9772, -5.4256, -5.4928, -6.201, -3.6363, -3.7513, -6.2054, -5.8302, -6.6642, -5.0453, -4.2277, -6.0475, -5.7855, -6.2384, -4.6855, -6.6556, -5.5414, -6.7615, -6.1421, -3.8158, -4.6395, -5.9333, -6.3877, -6.6432, -4.9877, -5.2538, -5.2513, -5.2251, -4.22, -5.2154, -4.4022, -4.7378, -5.4052, -5.6299, -5.5703, -5.3776, -4.7018, -5.3741, -5.4018, -5.1506, -5.1693, -5.2679, -5.3931, -5.3632, -5.5439, -5.5313, -5.81, -6.7483, -5.9642, -6.5251, -7.0845, -7.0798, -7.3681, -7.4838, -6.6428, -7.3944, -7.043, -7.5767, -7.7877, -7.7877, -7.7878, -7.8072, -7.6644, -7.872, -7.8721, -7.8757, -7.8107, -7.7263, -7.8904, -7.8967, -7.9, -7.9738, -6.5463, -7.9778, -6.7313, -7.9957, -6.2779, -4.2401, -5.8612, -5.2926, -6.4154, -5.9972, -6.9606, -4.2759, -6.3387, -6.6558, -7.46, -6.1948, -6.3178, -6.1547, -6.2359, -3.8014, -6.0533, -6.1147, -3.6478, -3.8798, -5.4463, -3.9, -5.8791, -4.1486, -5.9531, -4.9665, -5.7996, -4.7361, -4.2872, -5.5986, -4.8734, -4.9286, -5.0432, -5.876, -5.7198, -5.7749, -5.75, -5.725, -5.7492, -5.4172, -5.5773, -5.4597, -5.5434, -5.6746, -5.8148, -5.687, -5.811, -6.8953, -6.7141, -6.753, -7.2488, -7.2375, -7.2371, -7.1154, -6.9579, -6.8975, -7.3541, -7.398, -7.4656, -7.4215, -7.31, -7.4144, -7.5598, -7.5462, -7.3688, -6.5185, -7.6832, -5.8508, -6.5025, -7.5683, -7.3967, -7.7659, -7.7681, -7.7786, -7.6286, -7.7853, -7.8509, -7.2543, -4.4019, -7.222, -3.322, -5.3408, -5.7949, -3.8013, -4.7315, -5.7322, -4.3489, -4.8069, -5.6603, -6.8042, -5.3476, -6.0924, -6.1562, -4.9425, -5.9548, -6.8033, -6.4687, -5.9047, -4.7491, -5.7007, -5.2591, -5.0889, -4.3724, -5.1058, -4.4503, -5.0706, -5.1505, -5.3571, -5.1572, -5.1829, -5.2501, -5.5839, -5.5498, -5.0498, -4.9265, -5.5255, -5.4891, -5.3892, -5.5903, -5.534, -6.3779, -6.5396, -6.5272, -7.1615, -7.1191, -6.8941, -7.0831, -7.1256, -7.3589, -5.5835, -6.4351, -7.3789, -6.8657, -7.5726, -7.5062, -7.5104, -7.5183, -7.6363, -7.7787, -7.7947, -7.781, -6.9435, -7.7143, -7.8689, -7.8686, -7.8049, -2.9411, -7.7345, -7.227, -7.8887, -7.6017, -5.7355, -5.1153, -5.1526, -7.4863, -3.192, -5.1022, -6.3495, -7.4914, -6.234, -6.6767, -6.0074, -5.1388, -5.7198, -6.1835, -4.5724, -3.7084, -5.4358, -4.0456, -6.1693, -5.3429, -5.3893, -5.311, -5.5248, -5.1834, -5.5304, -6.0063, -4.4472, -5.1134, -4.8433, -5.6207, -5.7148, -5.7284, -5.8233, -5.0064, -5.29, -5.4235, -5.4737, -5.6653, -5.7119, -6.4826, -6.5159, -6.8735, -7.1135, -7.171, -7.1323, -7.1955, -7.3979, -7.4521, -7.4658, -7.5199, -7.5353, -7.5238, -7.6618, -7.0435, -7.5984, -7.6664, -7.6701, -7.7438, -7.4162, -7.3828, -7.6892, -7.7696, -7.5525, -7.8411, -7.573, -7.936, -7.9392, -7.9501, -7.9543, -7.4088, -7.5263, -6.9967, -7.5854, -7.1919, -4.1782, -5.2583, -3.8244, -6.8772, -6.8232, -6.2607, -3.5203, -6.3397, -5.031, -6.0041, -3.3894, -5.3063, -6.7678, -6.5352, -5.7283, -5.0528, -5.985, -4.5421, -4.8148, -6.6635, -4.029, -5.9236, -5.1619, -6.2579, -6.5736, -4.4166, -6.0185, -5.5813, -5.1234, -6.2925, -5.2035, -6.2554, -5.1387, -5.2811, -4.9049, -5.5656, -5.6457, -5.7053, -5.8414, -5.5997, -5.5797, -5.6572, -5.5551, -5.616, -5.7634, -5.7593, -6.916, -6.9743, -6.6722, -7.1812, -7.1359, -7.2392, -7.3467, -7.1873, -6.9597, -7.3689, -7.3793, -4.6088, -7.5065, -7.5242, -7.3268, -7.4493, -7.5884, -7.5885, -7.5916, -7.6205, -7.5926, -7.5929, -5.7129, -7.6076, -7.5969, -7.6112, -7.0299, -7.6812, -7.6794, -7.6794, -3.8793, -5.4438, -6.6223, -6.6889, -4.6355, -7.2275, -4.9418, -6.0343, -5.0334, -4.1107, -4.5427, -7.1409, -5.3715, -6.2552, -6.5081, -4.6339, -3.7225, -5.3422, -5.3666, -4.8099, -5.0172, -4.9589, -4.1657, -4.7521, -5.4925, -5.8283, -5.7517, -4.2721, -5.652, -5.5538, -5.7332, -5.419, -5.652, -5.3886, -5.4502, -5.5507, -5.3078, -5.4657, -5.6316, -6.2396, -6.6918, -7.104, -7.2013, -7.2107, -7.104, -7.4628, -7.1702, -7.4599, -7.1689, -7.3991, -7.5555, -7.6211, -7.6231, -7.6249, -7.6245, -7.4868, -7.4964, -7.7082, -7.7082, -7.5703, -7.7266, -7.73, -6.4444, -7.7351, -7.7238, -7.8099, -7.81, -7.6589, -7.8244, -5.3948, -6.0731, -7.1141, -6.1329, -6.8992, -4.0785, -7.4071, -6.0878, -4.7539, -5.514, -4.0103, -6.1871, -6.3742, -5.8752, -5.9247, -6.915, -5.5322, -6.1479, -5.5043, -5.5104, -5.5961, -6.2618, -6.7071, -4.9976, -3.8724, -4.1796, -5.0949, -5.3216, -4.9424, -4.2104, -5.9318, -5.0374, -4.6526, -4.6426, -4.5319, -4.8578, -5.3615, -5.0844, -5.2657, -5.1243, -5.4645, -5.4282, -5.1495, -5.5822, -5.511, -6.7813, -6.9379, -6.4138, -7.0433, -6.8066, -7.2465, -7.0594, -7.1151, -7.3105, -7.2616, -7.2235, -7.3885, -6.831, -7.3912, -7.1248, -7.4015, -7.4557, -7.4601, -7.5342, -7.5477, -7.541, -7.6206, -7.6297, -7.623, -7.7046, -7.7046, -7.7047, -7.7071, -7.5019, -7.7114, -6.3941, -6.571, -7.3138, -7.0681, -4.4334, -5.5129, -6.7951, -5.6566, -6.6941, -6.0127, -6.2176, -6.9197, -6.4171, -4.7966, -6.508, -5.9136, -6.4695, -6.4131, -5.1023, -5.3801, -5.2405, -6.4239, -4.5028, -4.6537, -6.4104, -4.7598, -5.794, -5.6094, -5.5805, -5.1392, -5.5509, -5.0471, -4.6783, -5.6491, -5.4419, -5.4445, -4.9965, -5.1636, -6.0362, -4.8586, -4.9046, -5.4229, -5.0869, -5.3621, -5.5713, -5.4539, -5.4356, -5.7097], \"loglift\": [30.0, 29.0, 28.0, 27.0, 26.0, 25.0, 24.0, 23.0, 22.0, 21.0, 20.0, 19.0, 18.0, 17.0, 16.0, 15.0, 14.0, 13.0, 12.0, 11.0, 10.0, 9.0, 8.0, 7.0, 6.0, 5.0, 4.0, 3.0, 2.0, 1.0, 1.8172, 1.7785, 1.7762, 1.7688, 1.7608, 1.7598, 1.7443, 1.7442, 1.739, 1.7378, 1.7342, 1.7332, 1.7327, 1.7309, 1.7293, 1.7284, 1.7255, 1.7247, 1.7238, 1.7161, 1.716, 1.7158, 1.7154, 1.7152, 1.7142, 1.7141, 1.7118, 1.7111, 1.7102, 1.7094, 1.7048, 1.6625, 1.6587, 1.6635, 1.5721, 1.5759, 1.588, 1.5379, 1.6075, 1.4416, 1.3009, 1.5004, 1.4623, 1.5145, 1.248, 1.5404, 1.3567, 1.549, 1.4016, 0.9184, 1.0389, 1.3111, 1.393, 1.4386, 0.7925, 0.8659, 0.8484, 0.8335, 0.3828, 0.81, 0.4136, 0.5066, 0.7601, 0.8969, 0.8084, 0.552, -0.3132, 0.2404, 0.1816, -0.3517, -0.5202, -0.3049, -0.1505, -0.9262, -0.2012, -0.7581, 2.0043, 1.978, 1.9656, 1.9645, 1.953, 1.9503, 1.941, 1.9322, 1.9188, 1.9172, 1.9156, 1.9125, 1.8981, 1.898, 1.898, 1.8935, 1.8908, 1.8901, 1.8901, 1.8887, 1.8877, 1.8857, 1.8854, 1.8814, 1.88, 1.8761, 1.8755, 1.8745, 1.8738, 1.8693, 1.8639, 1.8316, 1.8366, 1.7446, 1.7995, 1.7586, 1.8251, 1.6062, 1.7562, 1.7711, 1.8511, 1.6591, 1.6709, 1.6203, 1.6247, 1.1615, 1.59, 1.5305, 0.7408, 0.7694, 1.2913, 0.7029, 1.4059, 0.6247, 1.3897, 0.8136, 1.2551, 0.5066, 0.1497, 1.0909, 0.335, 0.3159, 0.284, 1.1938, 0.9741, 0.9937, 0.9182, 0.8502, 0.8911, 0.1914, 0.5135, 0.1547, 0.2259, 0.1172, 0.9342, -0.9528, 0.2476, 1.9826, 1.9739, 1.969, 1.9617, 1.9615, 1.9606, 1.9577, 1.9558, 1.9522, 1.9517, 1.951, 1.9487, 1.9453, 1.9452, 1.9438, 1.9347, 1.9295, 1.9266, 1.9238, 1.9234, 1.9197, 1.9184, 1.9179, 1.9176, 1.9152, 1.9133, 1.913, 1.9114, 1.9082, 1.9069, 1.9051, 1.8183, 1.8914, 1.6769, 1.687, 1.7279, 1.4431, 1.5384, 1.6589, 1.4449, 1.485, 1.5819, 1.8012, 1.35, 1.5133, 1.5278, 1.083, 1.416, 1.7329, 1.5798, 1.3217, 0.5935, 1.1058, 0.8177, 0.703, 0.2305, 0.6636, 0.1988, 0.618, 0.5958, 0.6289, 0.4257, 0.4022, 0.4751, 0.6899, 0.6156, -0.251, -0.4896, 0.408, 0.1195, -0.616, 0.5315, -0.571, 2.0174, 2.0122, 2.009, 1.9795, 1.9794, 1.9703, 1.9692, 1.967, 1.9623, 1.9614, 1.9547, 1.9521, 1.9374, 1.9292, 1.9269, 1.922, 1.9216, 1.9213, 1.9211, 1.9175, 1.9167, 1.916, 1.9126, 1.9096, 1.9077, 1.9076, 1.9056, 1.9043, 1.904, 1.9014, 1.9012, 1.8556, 1.8226, 1.8025, 1.8901, 1.6069, 1.6848, 1.7662, 1.8855, 1.714, 1.773, 1.6137, 1.3822, 1.423, 1.5267, 1.0362, 0.6803, 1.2361, 0.6886, 1.4903, 1.1171, 1.0901, 1.045, 1.1457, 0.9385, 1.123, 1.3855, 0.3261, 0.656, 0.1556, 0.8987, 0.9792, 0.8468, 0.959, -0.4036, 0.0527, 0.1594, 0.1097, 0.4344, 0.3789, 2.0188, 2.008, 1.9946, 1.9875, 1.9808, 1.9779, 1.9664, 1.9654, 1.956, 1.9516, 1.9469, 1.9461, 1.9457, 1.9395, 1.9378, 1.9368, 1.935, 1.9333, 1.9306, 1.9304, 1.9269, 1.9239, 1.9214, 1.9189, 1.9143, 1.9065, 1.9051, 1.9043, 1.9036, 1.9015, 1.8983, 1.8953, 1.8805, 1.8953, 1.8779, 1.6487, 1.6275, 1.4182, 1.814, 1.8065, 1.7276, 1.2955, 1.6898, 1.421, 1.6126, 1.0475, 1.4612, 1.7559, 1.6934, 1.4674, 1.2655, 1.5215, 1.0413, 1.0964, 1.7037, 0.6201, 1.3784, 0.9648, 1.4773, 1.6425, 0.3567, 1.3141, 1.0022, 0.6704, 1.4401, 0.5658, 1.3827, 0.4442, 0.5646, -0.1707, 0.5813, 0.6462, 0.6322, 0.8517, 0.3939, 0.3499, 0.4195, 0.1335, -0.2733, 0.3563, -0.0809, 2.1263, 2.1171, 2.1136, 2.1012, 2.0969, 2.0966, 2.0955, 2.0951, 2.0914, 2.0854, 2.0835, 2.0799, 2.078, 2.0755, 2.0754, 2.0696, 2.0692, 2.0692, 2.0662, 2.066, 2.0653, 2.0651, 2.0639, 2.0627, 2.0615, 2.0592, 2.0585, 2.0577, 2.0574, 2.0574, 2.0422, 2.0341, 2.0443, 1.9819, 1.6757, 2.0096, 1.5855, 1.7713, 1.5417, 1.3414, 1.303, 1.9573, 1.4428, 1.6785, 1.7369, 1.0547, 0.6661, 1.2949, 1.2994, 1.0421, 1.066, 1.0347, 0.6501, 0.8329, 1.1049, 1.3037, 1.2219, 0.1648, 1.1515, 1.0734, 1.2064, 0.8979, 1.0257, 0.5974, 0.6494, 0.2761, -0.6587, -0.7315, -0.8327, 2.1538, 2.1442, 2.124, 2.1233, 2.1164, 2.1155, 2.0994, 2.0987, 2.0977, 2.0965, 2.0963, 2.083, 2.0804, 2.0789, 2.0766, 2.0755, 2.0735, 2.0734, 2.0698, 2.0698, 2.0698, 2.0647, 2.0615, 2.0607, 2.0583, 2.0559, 2.0556, 2.0556, 2.0549, 2.0535, 2.0494, 2.0448, 2.0203, 1.9651, 2.0047, 1.7855, 2.0355, 1.8944, 1.7433, 1.827, 1.6042, 1.8726, 1.8735, 1.6894, 1.6687, 1.9109, 1.5211, 1.6922, 1.4861, 1.4766, 1.502, 1.6729, 1.836, 1.1054, 0.5645, 0.5936, 1.0519, 1.1384, 0.9096, 0.3924, 1.3967, 0.7319, 0.3104, 0.0916, -0.1433, 0.1411, 0.7293, 0.3677, 0.4595, 0.2184, 0.7008, 0.3181, -0.5003, 0.4038, 0.074, 2.1681, 2.1582, 2.1521, 2.151, 2.1422, 2.1367, 2.1342, 2.1324, 2.1315, 2.1304, 2.1246, 2.1226, 2.1183, 2.1181, 2.1171, 2.1164, 2.1154, 2.1127, 2.1064, 2.1043, 2.1014, 2.0965, 2.0958, 2.094, 2.0868, 2.0868, 2.0868, 2.0865, 2.083, 2.082, 2.0777, 2.0649, 2.0791, 2.0733, 1.9539, 1.9959, 2.0459, 1.9669, 2.0314, 1.9481, 1.9577, 2.0324, 1.9622, 1.7395, 1.9639, 1.8557, 1.9214, 1.8859, 1.545, 1.5862, 1.4566, 1.8367, 1.0801, 1.1382, 1.8004, 0.9654, 1.4409, 1.3308, 1.2751, 0.9236, 1.1997, 0.6992, 0.2847, 1.093, 0.8765, 0.8667, 0.3461, 0.4215, 1.3737, -0.2095, -0.3018, 0.3465, -0.288, 0.2213, -0.1191, -0.6072, -1.047, 0.1423]}, \"token.table\": {\"Topic\": [5, 5, 2, 1, 1, 4, 5, 6, 7, 2, 5, 6, 7, 8, 1, 2, 3, 4, 5, 7, 8, 7, 4, 1, 2, 3, 5, 7, 8, 3, 6, 7, 4, 3, 5, 7, 8, 1, 2, 3, 4, 5, 6, 7, 8, 8, 1, 2, 3, 4, 5, 6, 7, 1, 2, 3, 4, 7, 8, 8, 1, 3, 4, 5, 6, 7, 8, 6, 8, 1, 2, 3, 5, 6, 8, 7, 5, 8, 1, 2, 1, 2, 3, 4, 6, 7, 8, 5, 8, 1, 3, 3, 5, 6, 7, 8, 1, 2, 3, 4, 5, 6, 7, 8, 1, 2, 6, 8, 7, 1, 2, 3, 4, 5, 6, 7, 8, 2, 6, 4, 7, 7, 4, 6, 1, 2, 3, 7, 3, 5, 6, 7, 8, 5, 4, 2, 7, 3, 1, 1, 2, 3, 4, 6, 7, 8, 2, 4, 8, 1, 2, 3, 4, 5, 7, 7, 1, 2, 3, 4, 5, 8, 1, 4, 3, 1, 2, 3, 4, 6, 7, 8, 7, 8, 3, 4, 5, 6, 7, 1, 1, 1, 1, 5, 7, 5, 5, 6, 5, 2, 5, 6, 4, 5, 1, 2, 3, 4, 5, 6, 7, 8, 5, 7, 7, 1, 6, 1, 4, 5, 7, 8, 2, 6, 1, 2, 3, 4, 5, 6, 7, 8, 2, 3, 7, 4, 3, 1, 2, 3, 5, 6, 7, 8, 1, 2, 3, 4, 5, 6, 7, 8, 2, 6, 6, 5, 4, 1, 1, 2, 4, 6, 7, 8, 5, 6, 2, 3, 7, 3, 7, 1, 2, 3, 4, 5, 6, 8, 1, 2, 3, 4, 5, 6, 7, 8, 5, 1, 3, 4, 5, 7, 8, 1, 2, 3, 4, 5, 6, 7, 8, 7, 5, 1, 2, 3, 4, 5, 6, 8, 3, 1, 2, 3, 4, 5, 7, 8, 1, 2, 3, 4, 5, 6, 8, 2, 3, 4, 5, 6, 7, 8, 7, 1, 5, 6, 7, 8, 1, 2, 3, 4, 5, 6, 7, 8, 6, 2, 3, 4, 5, 2, 5, 1, 2, 3, 7, 4, 2, 7, 8, 2, 3, 2, 4, 6, 4, 7, 1, 2, 3, 4, 5, 6, 7, 8, 1, 2, 3, 4, 6, 7, 8, 1, 6, 4, 3, 1, 2, 3, 4, 6, 7, 5, 2, 5, 1, 1, 4, 5, 6, 7, 8, 2, 5, 3, 1, 2, 3, 4, 6, 7, 8, 6, 3, 1, 8, 2, 3, 4, 5, 6, 8, 1, 2, 3, 4, 5, 6, 1, 3, 4, 5, 6, 7, 2, 3, 5, 2, 7, 2, 5, 8, 2, 3, 8, 1, 3, 2, 1, 2, 3, 4, 5, 6, 8, 1, 2, 3, 4, 5, 6, 8, 3, 1, 3, 5, 6, 7, 8, 1, 2, 3, 4, 5, 6, 7, 8, 1, 4, 1, 2, 5, 3, 1, 2, 4, 7, 8, 3, 5, 6, 8, 8, 1, 2, 3, 4, 5, 6, 7, 8, 7, 5, 1, 2, 3, 4, 5, 6, 7, 8, 1, 2, 4, 7, 1, 2, 3, 4, 6, 7, 4, 1, 1, 2, 3, 4, 5, 6, 7, 8, 1, 3, 5, 6, 8, 1, 2, 3, 4, 5, 6, 7, 8, 1, 2, 3, 4, 5, 6, 7, 8, 1, 2, 4, 5, 1, 2, 3, 4, 5, 6, 7, 8, 2, 8, 6, 1, 2, 3, 4, 5, 6, 7, 8, 4, 6, 7, 7, 2, 3, 4, 5, 7, 2, 4, 5, 6, 7, 8, 1, 2, 5, 6, 7, 8, 1, 2, 6, 5, 1, 2, 3, 4, 5, 7, 8, 3, 3, 8, 2, 3, 4, 8, 6, 1, 5, 7, 8, 1, 2, 3, 4, 6, 7, 8, 6, 1, 2, 3, 4, 7, 8, 6, 7, 8, 1, 2, 3, 4, 5, 6, 7, 8, 1, 2, 3, 4, 5, 6, 7, 8, 1, 3, 4, 5, 7, 8, 4, 1, 1, 2, 3, 4, 5, 6, 7, 8, 4, 5, 6, 7, 5, 6, 8, 1, 2, 4, 1, 1, 2, 5, 1, 4, 7, 6, 6, 1, 2, 5, 6, 7, 8, 1, 2, 3, 4, 6, 7, 8, 1, 2, 3, 4, 5, 6, 7, 8, 3, 4, 4, 4, 1, 2, 3, 4, 5, 6, 7, 8, 1, 2, 7, 3, 5, 2, 3, 4, 5, 7, 8, 1, 6, 7, 8, 7, 6, 8, 5, 1, 2, 3, 4, 5, 6, 7, 8, 1, 4, 5, 6, 7, 8, 3, 4, 5, 6, 8, 1, 3, 4, 5, 6, 7, 8, 2, 5, 6, 7, 1, 2, 3, 4, 5, 6, 7, 8, 5, 4, 1, 2, 3, 4, 6, 7, 8, 1, 8, 1, 1, 2, 5, 7, 1, 2, 3, 4, 5, 6, 7, 8, 2, 4, 6, 7, 1, 6, 1, 2, 3, 4, 5, 6, 7, 8, 3, 1, 2, 7, 6, 1, 2, 3, 4, 5, 6, 7, 8, 3, 1, 2, 3, 5, 6, 7, 8, 4, 5, 1, 2, 3, 4, 5, 6, 8, 1, 2, 3, 1, 2, 3, 5, 6, 7, 8, 3, 2, 3, 6, 1, 2, 3, 4, 5, 6, 7, 8, 1, 6, 8, 1, 2, 3, 4, 5, 6, 7, 8, 8, 7, 4, 1, 2, 3, 4, 5, 6, 7, 8, 1, 2, 3, 4, 5, 7, 8, 7, 2, 4, 1, 2, 3, 4, 5, 6, 8, 2, 1, 2, 3, 4, 5, 6, 7, 8, 2, 6, 8, 2, 1, 2, 3, 5, 8, 1, 4, 6, 7, 1, 2, 3, 4, 5, 6, 8, 3, 4, 7, 8, 1, 2, 4, 5, 4, 8, 1, 4, 5, 6, 1, 2, 3, 4, 5, 6, 7, 8, 7, 6, 1, 3, 4, 5, 6, 7, 8, 1, 2, 3, 4, 5, 6, 7, 8, 1, 2, 5, 8, 5, 2, 4, 1, 2, 3, 4, 5, 6, 8, 5, 1, 7, 8, 1, 2, 4, 6, 7, 8, 1, 2, 3, 4, 5, 6, 7, 8, 1, 2, 3, 4, 5, 6, 7, 8, 4, 6, 7, 8, 3, 2, 1, 2, 5, 8, 3, 7, 1, 2, 3, 4, 5, 6, 7, 8, 1, 2, 3, 5, 8, 1, 2, 4, 5, 8, 1, 3, 6, 7, 1, 4, 5, 6, 7, 2, 5, 3, 7, 1, 3, 4, 5, 6, 8, 3, 6, 7, 2, 8, 7, 2, 3, 5, 6, 7, 5, 6, 7, 8, 6, 7, 8, 2, 4, 8, 3, 7, 2, 7, 8, 1, 6, 7, 1, 2, 3, 4, 5, 6, 8, 1, 2, 3, 4, 5, 6, 7, 8, 5, 5, 4, 2, 3, 1, 2, 3, 5, 7, 1, 2, 3, 4, 5, 7, 8, 8, 6, 7, 4, 5, 8, 1, 2, 1, 3, 4, 6, 1, 3, 4, 5, 6, 8, 1, 2, 3, 4, 5, 6, 7, 8, 5, 3, 8, 2, 4, 6, 8, 1, 2, 3, 4, 5, 6, 7, 8, 4, 1, 2, 3, 4, 6, 7, 8, 1, 2, 5, 6, 3, 2, 1, 2, 5, 6, 7, 8, 1, 2, 3, 5, 6, 8, 1, 3, 4, 5, 6, 7, 8, 4, 5, 6, 1, 2, 3, 4, 5, 6, 7, 8, 3, 4, 5, 7, 1, 2, 3, 4, 5, 6, 7, 8, 1, 2, 3, 4, 6, 7, 8, 2, 4, 8, 1, 2, 3, 6, 8, 1, 2, 3, 4, 5, 6, 7, 1, 2, 3, 4, 5, 6, 7, 8, 1, 2, 3, 4, 5, 6, 7, 8, 1, 3, 4, 5, 7, 8, 6, 1, 3, 5, 8, 2, 5, 6, 5, 1, 1, 2, 3, 4, 5, 7, 8, 1, 2, 3, 5, 6, 7, 3, 7, 8, 1, 3, 5, 6, 4, 5, 8, 5, 4, 8, 1, 3, 1, 2, 1, 3, 4, 5, 1, 8, 5, 1, 2, 3, 4, 5, 6, 7, 8, 3, 4, 2, 3, 8, 1, 3, 4, 5, 6, 7, 8, 1, 4, 6, 7, 8, 1, 2, 5, 6, 8, 1, 5, 4, 1, 2, 4, 7, 2, 4, 6, 7, 8, 1, 2, 3, 4, 5, 6, 7, 8, 1, 4, 5, 6, 7, 3, 1, 2, 3, 4, 6, 8, 7, 1, 2, 3, 4, 5, 6, 7, 8, 1, 2, 3, 4, 5, 6, 7, 8, 1, 2, 3, 4, 5, 6, 7, 8, 1, 2, 3, 4, 5, 7, 1, 2, 3, 4, 5, 6, 7, 8, 3, 4, 5, 6, 8, 2, 6, 1, 3, 5, 6, 1, 1, 2, 4, 5, 6, 7, 8, 2, 1, 2, 6, 7, 8, 3, 7, 5, 1, 3, 2, 3, 6, 7, 8, 6, 6, 2, 6, 7, 2, 3, 8, 1, 4, 5, 7, 8, 2, 3, 4, 5, 7, 2, 8, 2, 3, 4, 5, 6, 8, 2, 3, 4, 5, 7, 1, 2, 5, 6, 4, 1, 2, 3, 4, 5, 7, 8, 1, 2, 4, 8, 1, 3, 4, 5, 6, 7, 8, 8, 6, 7, 2, 8, 8, 2, 7, 8, 8, 1, 2, 4, 1, 2, 3, 5, 6, 7, 8, 8, 4, 8, 1, 5, 6, 8, 8, 7, 1, 2, 3, 4, 5, 6, 7, 8, 1, 2, 3, 4, 7, 8, 8, 4, 1, 2, 4, 5, 6, 7, 3, 1, 8, 1, 2, 3, 4, 5, 6, 7, 8, 1, 5, 2, 1, 1, 8, 6, 1, 2, 3, 4, 5, 6, 7, 8, 3, 2, 7, 8, 2, 8, 1, 2, 3, 4, 1, 2, 3, 4, 5, 8, 1, 2, 3, 4, 5, 6, 7, 8], \"Freq\": [0.8778359751946735, 0.939566866710489, 0.7601404770400381, 0.8505336394603072, 0.8278584715857443, 0.023653099188164124, 0.04730619837632825, 0.07095929756449237, 0.023653099188164124, 0.18059085186313956, 0.6421008066244962, 0.10032825103507753, 0.020065650207015506, 0.06019695062104652, 0.19122670470526562, 0.007967779362719401, 0.07171001426447461, 0.12748446980351041, 0.29480783642061786, 0.23903338088158205, 0.06374223490175521, 0.8056867040453137, 0.8715127586093124, 0.16034430067306613, 0.09620658040383967, 0.0427584801794843, 0.18172354076280825, 0.48103290201919835, 0.03206886013461322, 0.03246729338908416, 0.1623364669454208, 0.7792150413380199, 0.8913138492323478, 0.12299716901972495, 0.512488204248854, 0.3074929225493124, 0.040999056339908316, 0.05750678019376557, 0.08172016132798265, 0.20884041228262235, 0.0514534349102113, 0.07869348868620551, 0.06658679811909698, 0.17252034058129673, 0.2814805556852736, 0.8847731301825308, 0.13730951709629452, 0.5339814553744787, 0.2135925821497915, 0.07628306505349695, 0.015256613010699391, 0.015256613010699391, 0.015256613010699391, 0.3453509583420188, 0.29738554746118284, 0.13110545640761825, 0.12471006829017346, 0.03837232870466876, 0.06395388117444793, 0.8513327802147368, 0.0917019043830234, 0.11790244849245866, 0.0458509521915117, 0.01310027205471763, 0.05895122424622933, 0.6222629225990874, 0.03930081616415289, 0.9267202099051967, 0.8714632014449193, 0.23998003400509796, 0.079993344668366, 0.07199401020152939, 0.04799600680101959, 0.09599201360203918, 0.46396139907652273, 0.909136108623948, 0.9117176217217404, 0.932144277240711, 0.8485113053315395, 0.9070980770580382, 0.022674321443108745, 0.31744050020352244, 0.25697564302189907, 0.03023242859081166, 0.09069728577243498, 0.24941753587419618, 0.022674321443108745, 0.9053758698433801, 0.829684366863166, 0.9086775970552893, 0.920678375580488, 0.600936709804802, 0.0214620253501715, 0.085848101400686, 0.257544304202058, 0.0214620253501715, 0.127445056190814, 0.15427559433624852, 0.06707634536358632, 0.509780224763256, 0.013415269072717263, 0.07378397989994495, 0.03353817268179316, 0.020122903609075895, 0.1052288056672018, 0.03507626855573393, 0.1052288056672018, 0.7716779082261466, 0.8845789235283468, 0.05354832954979992, 0.223118039790833, 0.3926877500318661, 0.00892472159163332, 0.1338708238744998, 0.06247305114143324, 0.01784944318326664, 0.10709665909959984, 0.8727901251138984, 0.8375949061470221, 0.043623829428858514, 0.9597242474348874, 0.8969690121962327, 0.0874190078384856, 0.874190078384856, 0.9411680912830336, 0.13447186949884274, 0.13447186949884274, 0.739595282243635, 0.045687210523547274, 0.060916280698063034, 0.1522907017451576, 0.6853081578532092, 0.060916280698063034, 0.8760419208470954, 0.7938312778838039, 0.8737566211271015, 0.10921957764088769, 0.8951123858884743, 0.8251124730318695, 0.12621605246768064, 0.03786481574030419, 0.018932407870152095, 0.39126976264980995, 0.16408086820798481, 0.08204043410399241, 0.17670247345475287, 0.11909418959660778, 0.15879225279547704, 0.7145651375796467, 0.035942829535676506, 0.07188565907135301, 0.053914244303514755, 0.07188565907135301, 0.5750852725708241, 0.16174273291054425, 0.8828933920112696, 0.6063730892280709, 0.019560422233163576, 0.05868126669949073, 0.019560422233163576, 0.13692295563214504, 0.14670316674872683, 0.06572036518969641, 0.9200851126557498, 0.9295233608969524, 0.1688532258718739, 0.0995801075654641, 0.1731827957660245, 0.06494354841225919, 0.32471774206129594, 0.13854623661281962, 0.034636559153204904, 0.8711086078905219, 0.8264841035475329, 0.015863616958879737, 0.007931808479439868, 0.015863616958879737, 0.8883625496972652, 0.06345446783551895, 0.8974340156429925, 0.8833908870361167, 0.8202525186262786, 0.10134104623452216, 0.2026820924690443, 0.7093873236416551, 0.8424117586476405, 0.9299849092048516, 0.9268972200763174, 0.8199172218457733, 0.8626283105956573, 0.05391426941222858, 0.05391426941222858, 0.921358147921243, 0.9423629349063065, 0.07852728188024125, 0.21813133855622566, 0.0654394015668677, 0.18759295115835406, 0.07852728188024125, 0.04798889448236965, 0.2268565920984747, 0.09161516219361478, 0.8580370135699745, 0.08580370135699746, 0.8406983681437542, 0.8487058591345723, 0.9182448161562143, 0.20943597047417198, 0.5654771202802643, 0.020943597047417196, 0.1256615822845032, 0.0628307911422516, 0.9531573097501704, 0.9267358664540915, 0.5442287623621068, 0.026093159839279095, 0.19383490166321612, 0.08573466804334559, 0.0037275942627541564, 0.02982075410203325, 0.03727594262754157, 0.07827947951783729, 0.07268608423862737, 0.07268608423862737, 0.799546926624901, 0.9273904562975629, 0.9489303316917117, 0.13045538664752612, 0.12523717118162508, 0.6000947785786203, 0.04174572372720836, 0.04174572372720836, 0.005218215465901045, 0.05218215465901045, 0.017120793831156823, 0.8175179054377383, 0.012840595373367616, 0.06848317532462729, 0.012840595373367616, 0.05992277840904888, 0.004280198457789206, 0.004280198457789206, 0.8711467980000416, 0.9263721655964197, 0.8822286663572881, 0.8974698292712612, 0.8826834364044777, 0.9664234839732712, 0.23518914934629587, 0.026132127705143983, 0.3310069509318238, 0.1742141847009599, 0.1567927662308639, 0.06968567388038396, 0.8492582716980768, 0.14154304528301279, 0.8396075509735137, 0.12917039245746365, 0.9192782937730777, 0.09755934490991301, 0.8780341041892171, 0.2364972824700372, 0.00975246525649638, 0.013409639727682523, 0.02438116314124095, 0.46568021599770215, 0.2133351774858583, 0.03657174471186142, 0.028118836248242466, 0.08435650874472739, 0.10310239957688903, 0.1405941812412123, 0.09372945416080822, 0.07498356332864657, 0.08435650874472739, 0.3842907620593137, 0.9047817173336182, 0.22608716046253619, 0.15226278153599376, 0.041526213146180116, 0.22608716046253619, 0.3137536104378053, 0.03691218946327121, 0.015507658265112804, 0.038769145662782015, 0.18609189918135366, 0.10079977872323323, 0.20159955744646646, 0.4109529440254893, 0.007753829132556402, 0.046522974795338415, 0.8711079385384125, 0.9444551686949338, 0.09893490462212526, 0.0809467401453752, 0.1528993980523754, 0.026982246715125068, 0.12591715133725032, 0.4676922763955012, 0.044970411191875115, 0.8889042140094668, 0.2710552802478405, 0.11139258092377005, 0.0854009787082237, 0.12253183901614706, 0.18194121550882442, 0.10767949489297772, 0.11881875298535473, 0.006701035335211609, 0.0670103533521161, 0.026804141340846434, 0.05360828268169287, 0.6634024981859493, 0.1474227773746554, 0.03685569434366385, 0.3044834954176076, 0.14870124194813394, 0.2974024838962679, 0.014162023042679422, 0.14870124194813394, 0.05664809217071769, 0.021243034564019134, 0.9046676320230704, 0.25086768763322304, 0.05973040181743406, 0.08362256254440768, 0.4897892949029593, 0.1075147232713813, 0.22955971694729385, 0.26502817106790577, 0.16256374805280466, 0.08571543079147882, 0.014778522550254969, 0.001970469673367329, 0.161578513216121, 0.07881878693469317, 0.9089376510346625, 0.1461607530143045, 0.07308037650715225, 0.10962056476072839, 0.6577233885643703, 0.2549907203367787, 0.6799752542314098, 0.722836549140525, 0.040157586063362505, 0.2007879303168125, 0.8168655954812698, 0.9094242682738121, 0.04718792941503879, 0.04718792941503879, 0.8493827294706983, 0.9212073309859167, 0.946905491299278, 0.11664431723384058, 0.8165102206368842, 0.9411353289511485, 0.9083261380597965, 0.8069239603371736, 0.07066130769984921, 0.13248995193721727, 0.07949397116233035, 0.1634042740559013, 0.08832663462481151, 0.07066130769984921, 0.33122487984304316, 0.06182864423736806, 0.07203110444099059, 0.19208294517597493, 0.4962142750379352, 0.008003456048998955, 0.10404492863698642, 0.0880380165389885, 0.03201382419599582, 0.11466702111960939, 0.8600026583970704, 0.8631116477492776, 0.8691411946450683, 0.08908022340825604, 0.04454011170412802, 0.7015067593400164, 0.011135027926032005, 0.05567513963016003, 0.10021525133428805, 0.7984503361540984, 0.1657644440925566, 0.7735674057652642, 0.8858800271623309, 0.1947412474935297, 0.40506179478654175, 0.23368949699223562, 0.038948249498705935, 0.031158599598964748, 0.09347579879689424, 0.2484954768571481, 0.7454864305714443, 0.9238081117127954, 0.1230815699820305, 0.08688110822260976, 0.04344055411130488, 0.22444286290840856, 0.3330442481866708, 0.08688110822260976, 0.09412120057449391, 0.9385511565484617, 0.8808928487109458, 0.11120651412231392, 0.8340488559173543, 0.10017428144190443, 0.16904409993321373, 0.03756535554071416, 0.5259149775699983, 0.04382624813083319, 0.11895695921226151, 0.13518233299929083, 0.1126519441660757, 0.04506077766643028, 0.13518233299929083, 0.5407293319971633, 0.02253038883321514, 0.112946172709327, 0.0677677036255962, 0.0677677036255962, 0.5647308635466349, 0.1807138763349232, 0.0225892345418654, 0.08728024222998175, 0.1745604844599635, 0.7273353519165145, 0.13248649626882428, 0.8611622257473579, 0.8574142205197076, 0.17206100518411444, 0.774274523328515, 0.8775597077831103, 0.05162115928135943, 0.05162115928135943, 0.09384464808231811, 0.844601832740863, 0.8854316301128222, 0.005029178934714218, 0.030175073608285308, 0.0414907262113923, 0.8612468925698098, 0.0012572947336785545, 0.0012572947336785545, 0.057835557749213506, 0.20250674408275474, 0.06300209815907926, 0.2205073435567774, 0.3285109404009132, 0.027000899211033966, 0.009000299737011322, 0.15300509552919248, 0.8476883862650432, 0.08100635417514257, 0.2362685330108325, 0.06750529514595215, 0.5400423611676172, 0.06750529514595215, 0.0067505295145952144, 0.06176053534739868, 0.1527321347104589, 0.0792871737567956, 0.0016692036580378022, 0.363051795623222, 0.13103248715596746, 0.19195842067434726, 0.018361240238415823, 0.23135048084061996, 0.7601515799048941, 0.7161742796220726, 0.03580871398110363, 0.21485228388662178, 0.9158896386116374, 0.01688596330225597, 0.01688596330225597, 0.08442981651127984, 0.8442981651127984, 0.01688596330225597, 0.5953772783532844, 0.05953772783532843, 0.23815091134131372, 0.07938363711377124, 0.8828566830814213, 0.11027014847134302, 0.017978828555110276, 0.10068143990861754, 0.6388477079915851, 0.001198588570340685, 0.0479435428136274, 0.003595765711022055, 0.08030543421282589, 0.8073117968808011, 0.8539122170557855, 0.01665985982230935, 0.4748060049358165, 0.14993873840078417, 0.14160880848962948, 0.01665985982230935, 0.1332788785784748, 0.05830950937808273, 0.008329929911154676, 0.03204520153678395, 0.30442941459944756, 0.5127232245885432, 0.1442034069155278, 0.09914921005679382, 0.655092995018102, 0.07436190754259536, 0.01416417286525626, 0.08498503719153756, 0.0708208643262813, 0.9561169067747709, 0.9515979086231791, 0.13737045266637743, 0.15891875896698568, 0.14545106752910553, 0.3609341305351878, 0.07272553376455276, 0.029628921163336312, 0.051177227463944534, 0.04579015088879248, 0.11420771625729455, 0.02719231339459394, 0.005438462678918788, 0.5927924320021479, 0.25560774590918306, 0.22959385450536648, 0.09104583885557636, 0.11479692725268324, 0.003958514732851146, 0.190008707176855, 0.31272266389524056, 0.03958514732851146, 0.01979257366425573, 0.16133545503832988, 0.04428816412816899, 0.24991178329466787, 0.24674834299979864, 0.05377848501277663, 0.07908600737173034, 0.01581720147434607, 0.15184513415372225, 0.7562214345111578, 0.17482538539774076, 0.0630184528759298, 0.004065706637156762, 0.12209935302835032, 0.14923254259020594, 0.07687737042525761, 0.04069978434278344, 0.33464267126288605, 0.07687737042525761, 0.08592176694587615, 0.11757715476804105, 0.8491286025888872, 0.9338178700603422, 0.9386833601031364, 0.05989078037584103, 0.05989078037584103, 0.08753267901084458, 0.05989078037584103, 0.05298030571709014, 0.42614593728963807, 0.15894091715127043, 0.09444315366959546, 0.8038918783143759, 0.8060449332271907, 0.17272391426296946, 0.8384894265586298, 0.18829628094120338, 0.5335061293334096, 0.20398763768630368, 0.015691356745100284, 0.06276542698040113, 0.217568280544881, 0.058576075531314116, 0.12552016185281595, 0.050208064741126386, 0.23430430212525646, 0.31798441002713373, 0.10571561739526783, 0.15102231056466833, 0.4681691627504718, 0.13592007950820148, 0.06040892422586733, 0.06040892422586733, 0.043521536003014796, 0.8269091840572812, 0.108803840007537, 0.8515999146277264, 0.6929837621496451, 0.05618787260672798, 0.05618787260672798, 0.09364645434454663, 0.018729290868909326, 0.03745858173781865, 0.018729290868909326, 0.8787685117453057, 0.9486986555654852, 0.9067231224487343, 0.7530563812654161, 0.022479294963146747, 0.17983435970517397, 0.033718942444720124, 0.9552176055506328, 0.6708247041877272, 0.1916642011964935, 0.03194403353274892, 0.09583210059824675, 0.0689136121728603, 0.19908376849937418, 0.0842277482112737, 0.39051046897954167, 0.1684554964225474, 0.030628272076826796, 0.0535994761344469, 0.8745764320938132, 0.014640312822341673, 0.004392093846702502, 0.691022765214527, 0.14933119078788507, 0.12590669027213838, 0.014640312822341673, 0.0764034669520011, 0.2292104008560033, 0.6876312025680099, 0.16296314353815552, 0.10864209569210369, 0.4888894306144666, 0.12222235765361665, 0.04074078588453888, 0.013580261961512961, 0.054321047846051844, 0.013580261961512961, 0.13449714404383503, 0.2185578590712319, 0.07285261969041064, 0.0018680158894977086, 0.5267804808383538, 0.03549230190045646, 0.0056040476684931255, 0.0056040476684931255, 0.1293822992985342, 0.09533432579891994, 0.006809594699922853, 0.1021439204988428, 0.04766716289945997, 0.6128635229930568, 0.8778600301134942, 0.850697080251003, 0.38456090229453965, 0.060720142467558885, 0.18216042740267666, 0.08770687245314061, 0.1484270149206995, 0.03373341248197716, 0.020240047489186296, 0.08096018995674518, 0.11313535517030315, 0.11313535517030315, 0.03771178505676772, 0.7165239160785867, 0.7638958229922573, 0.11752243430650113, 0.05876121715325056, 0.05867542962947694, 0.09779238271579489, 0.821456014812677, 0.9433286608417611, 0.8732987938033334, 0.11643983917377779, 0.9313611282129254, 0.16545285374276167, 0.22060380499034887, 0.5790849880996658, 0.9042432000694897, 0.9538155380580159, 0.05713814384680133, 0.03809209589786755, 0.1523683835914702, 0.0761841917957351, 0.5904274864169471, 0.0761841917957351, 0.13417314289697418, 0.03683184314818899, 0.19205175355841403, 0.09734129974878519, 0.2551920560981666, 0.11838806726203605, 0.1631124482276941, 0.392111007674227, 0.05055872591788028, 0.012358799668815179, 0.2550406840746405, 0.10785861529147792, 0.05392930764573896, 0.1202174149602931, 0.008988217940956493, 0.06953381096467641, 0.9039395425407933, 0.8055745450022801, 0.9252193686317409, 0.1325156302223569, 0.04417187674078563, 0.11358482590487734, 0.05048214484661215, 0.10727455779905082, 0.19561831128062207, 0.340754477714632, 0.012620536211653037, 0.8765556443937271, 0.9778723869001924, 0.9423986472227748, 0.10879099010333246, 0.8703279208266597, 0.09024235238974082, 0.09024235238974082, 0.16544431271452484, 0.13536352858461123, 0.4361713698837473, 0.09024235238974082, 0.1254395960268397, 0.02508791920536794, 0.6021100609288306, 0.2257912728483115, 0.8488095880613084, 0.8897446968229592, 0.882848826623801, 0.9205545371241713, 0.1864838157025294, 0.04202452184845733, 0.021012260924228664, 0.1418327612385435, 0.35983496832741585, 0.09455517415902899, 0.0157591956931715, 0.13395316339195773, 0.005868050496684546, 0.0762846564568991, 0.011736100993369091, 0.08802075745026817, 0.05868050496684545, 0.7569785140723063, 0.6724936630447277, 0.016011753882017327, 0.06404701552806931, 0.14410578493815596, 0.08005876941008663, 0.3465948675461284, 0.050969833462665946, 0.02038793338506638, 0.11213363361786507, 0.3669828009311948, 0.01019396669253319, 0.07135776684773232, 0.6581612142409874, 0.18804606121171066, 0.0705172729543915, 0.0705172729543915, 0.11581380606314665, 0.41947195610676286, 0.07344290140589788, 0.024010179305774305, 0.02965963326007414, 0.04802035861154861, 0.14971052978894567, 0.14264871234607088, 0.9407479501582616, 0.8695990900472383, 0.015067231792845429, 0.030134463585690857, 0.24107570868552686, 0.17327316561772244, 0.4068152584068266, 0.030134463585690857, 0.09793700665349528, 0.8872370848728529, 0.9122723157430382, 0.9209103138739232, 0.05821753648380518, 0.6986104378056621, 0.08732630472570777, 0.14554384120951294, 0.13399209662545053, 0.16749012078181316, 0.08932806441696702, 0.04466403220848351, 0.24006917312059886, 0.1004940724690879, 0.13957510065151096, 0.08932806441696702, 0.02070923876317569, 0.7765964536190884, 0.15531929072381767, 0.04141847752635138, 0.8848817098452905, 0.9551560444110245, 0.09287006830091332, 0.2827377634938917, 0.15787911611155264, 0.018574013660182662, 0.23733461899122293, 0.05778582027612384, 0.06604093745842725, 0.08667873041418576, 0.9074904131376637, 0.7661765258545635, 0.11971508216477555, 0.07182904929886534, 0.861306534149096, 0.10510424741073951, 0.08037383625527139, 0.23493890597694714, 0.08346513764970491, 0.08346513764970491, 0.046369520916502725, 0.15147376832724224, 0.21639109761034606, 0.7989236029279762, 0.05510655399035085, 0.029174057994891627, 0.5478239779040761, 0.24960027395629505, 0.04538186799205365, 0.003241561999432403, 0.06807280198808047, 0.8161080003180752, 0.11658685718829645, 0.20621649117771493, 0.35228650576192966, 0.07733118419164309, 0.060146476593500184, 0.008592353799071455, 0.15466236838328618, 0.14607001458421473, 0.027440746069564384, 0.932985366365189, 0.027440746069564384, 0.09137286579632502, 0.07995125757178438, 0.18274573159265003, 0.06852964934724376, 0.05710804112270313, 0.5025507618797875, 0.022843216449081254, 0.8806232828321021, 0.20129329846009347, 0.7548498692253506, 0.05032332461502337, 0.1419599205717691, 0.09463994704784606, 0.2925234726933424, 0.12475265747216072, 0.19358170987059423, 0.0688290523984335, 0.051621789298825126, 0.030112710424314654, 0.8747148192021574, 0.1365192465114781, 0.8191154790688686, 0.04200669900369687, 0.0026254186877310544, 0.19690640157982908, 0.14964886520067008, 0.19953182026756014, 0.026254186877310542, 0.06826088588100741, 0.3150502425277265, 0.8845853612720275, 0.8827179838243853, 0.8816367802693411, 0.20761405714151895, 0.033486138248632086, 0.04688059354808492, 0.3147696995371416, 0.13394455299452834, 0.16743069124316043, 0.06027504884753776, 0.040183365898358504, 0.1351265163391878, 0.0900843442261252, 0.1479957083714914, 0.3796411649529562, 0.025738384064607198, 0.128691920323036, 0.09651894024227699, 0.7606002104377133, 0.043469544256314586, 0.9128604293826063, 0.9223616210419194, 0.4575128436658308, 0.12581603200810346, 0.1143782109164577, 0.12581603200810346, 0.1143782109164577, 0.05718910545822885, 0.953156554917677, 0.06350923550451133, 0.3889940674651319, 0.11907981657095874, 0.15877308876127832, 0.08732519881870308, 0.05557058106644741, 0.023815963314191748, 0.11114116213289482, 0.16983321269326324, 0.05661107089775441, 0.7642494571196845, 0.8720329419994479, 0.09270103256792948, 0.12360137675723931, 0.6180068837861966, 0.030900344189309828, 0.12360137675723931, 0.1176216057464243, 0.07841440383094953, 0.19603600957737383, 0.5881080287321214, 0.08160339848317039, 0.04080169924158519, 0.26521104507030374, 0.10200424810396298, 0.08160339848317039, 0.020400849620792597, 0.40801699241585193, 0.1402298795282963, 0.07011493976414815, 0.11685823294024693, 0.6777777510534322, 0.752744351271665, 0.1841245175772418, 0.05595941220484799, 0.00361028465837729, 0.8831065874431602, 0.8195549243031824, 0.055892464189976045, 0.6986558023747006, 0.11178492837995209, 0.11178492837995209, 0.2724107541823203, 0.0942960302938801, 0.2566947491333403, 0.1623987188394602, 0.020954673398640024, 0.01571600504898002, 0.14144404544082015, 0.03667067844762004, 0.8879213860561014, 0.8358870844715055, 0.12138709848753924, 0.08568501069708652, 0.1499487687199014, 0.3498804603464366, 0.057123340464724344, 0.07854459313899598, 0.15708918627799195, 0.15191573731494443, 0.05063857910498147, 0.05063857910498147, 0.12659644776245368, 0.03375905273665431, 0.22787360597241663, 0.008439763184163578, 0.3544700537348703, 0.12126624771532014, 0.09094968578649011, 0.6972809243630909, 0.06063312385766007, 0.941521051727527, 0.7668753754153984, 0.18044126480362316, 0.03314852466781396, 0.06629704933562793, 0.0036831694075348843, 0.01841584703767442, 0.011049508222604653, 0.8581784719556281, 0.011049508222604653, 0.9058105917894729, 0.181736262934592, 0.1453890103476736, 0.6542505465645312, 0.16746465475239403, 0.3508783242431113, 0.34290381687394966, 0.12759211790658592, 0.00797450736916162, 0.00797450736916162, 0.010668777509869588, 0.06934705381415232, 0.5707795967780229, 0.037340721284543556, 0.24538188272700054, 0.005334388754934794, 0.005334388754934794, 0.05867827630428273, 0.12800467186665934, 0.0516147870430078, 0.23329883743439528, 0.1341984463118203, 0.09703579964085467, 0.0681315188967703, 0.1362630377935406, 0.15071517816558277, 0.9711565395910147, 0.837465807443581, 0.8069227798819293, 0.8746188193166946, 0.8601719954283629, 0.9382459006184035, 0.8190945621584892, 0.03780436440731489, 0.03780436440731489, 0.08821018361706807, 0.09152952279838425, 0.8237657051854583, 0.14847587493643244, 0.08060118925120618, 0.0721168535405529, 0.17817104992371893, 0.10605419638316603, 0.07635902139587954, 0.0721168535405529, 0.271498742740905, 0.8637083313928198, 0.7609003171092973, 0.023057585366948404, 0.16140309756863883, 0.04611517073389681, 0.10303135682526238, 0.6387944123166267, 0.14424389955536732, 0.020606271365052473, 0.06181881409515742, 0.955180852434469, 0.8892116833455656, 0.09360122982584901, 0.023400307456462252, 0.2502403327851794, 0.13170543830798914, 0.5531628408935544, 0.013170543830798914, 0.026341087661597828, 0.8044276167219955, 0.9064340393766336, 0.876600657050895, 0.8726016290218973, 0.09790046552918764, 0.04895023276459382, 0.13053395403891688, 0.1631674425486461, 0.13053395403891688, 0.4242353506264798, 0.896301240773415, 0.0896301240773415, 0.7605973607787704, 0.8573922666931202, 0.8616833196482186, 0.9508217266060041, 0.5328041537558633, 0.08640067358203189, 0.2160016839550797, 0.07200056131835991, 0.10080078584570387, 0.11019291961185439, 0.6060610578651991, 0.19283760932074517, 0.08264468970889079, 0.9644729233062006, 0.9106930659840415, 0.9224617978716976, 0.7444355150746531, 0.03236676152498492, 0.1942005691499095, 0.12457389871639, 0.8720172910147301, 0.9138728093132978, 0.7699978335705598, 0.9110879111565457, 0.08827197249707243, 0.794447752473652, 0.08827197249707243, 0.09993755518463246, 0.024984388796158115, 0.21236730476734397, 0.5371643591173995, 0.024984388796158115, 0.012492194398079057, 0.09993755518463246, 0.3490824535188085, 0.12217885873158298, 0.15708710408346382, 0.017454122675940424, 0.0989066951636624, 0.12217885873158298, 0.023272163567920567, 0.10472473605564256, 0.8759582317621113, 0.9277970082866949, 0.8209478184515461, 0.0896870175355756, 0.8968701753557561, 0.08278334151615022, 0.04139167075807511, 0.6346722849571517, 0.19316113020435052, 0.027594447172050073, 0.18767518870667854, 0.09668115781859198, 0.039809888513537874, 0.36397612355234626, 0.13649104633212986, 0.06255839623555952, 0.1137425386101082, 0.921509078072298, 0.9274411522462553, 0.9391330993684035, 0.8158245301062823, 0.9737405000677287, 0.9128420071523982, 0.8485392162359467, 0.8592747855443524, 0.01867472867955797, 0.03734945735911594, 0.9150617052983406, 0.01867472867955797, 0.15222396133557445, 0.060889584534229775, 0.12177916906845955, 0.07611198066778722, 0.0685007826010085, 0.5023390724073956, 0.10438397354765204, 0.1644838371053911, 0.04428410998991299, 0.1170365764019129, 0.22458370066313016, 0.07907876783913034, 0.22774685137669537, 0.03479465784921735, 0.8933459419563691, 0.8005136012471122, 0.8499189983437234, 0.044062797858746346, 0.5948477710930756, 0.2643767871524781, 0.08812559571749269, 0.05176518415941432, 0.14882490445831617, 0.26206124480703497, 0.11647166435868223, 0.016176620049816976, 0.003235324009963395, 0.0679418042092313, 0.33323837302622966, 0.9616219114458219, 0.3337101824395558, 0.03290100390249141, 0.23970731414672317, 0.08930272487819098, 0.07990243804890772, 0.22090674048815664, 0.0047001434146416304, 0.04710035060766986, 0.02355017530383493, 0.02355017530383493, 0.8713564862418923, 0.8238882543931099, 0.9530971351540672, 0.025606734388899866, 0.6657750941113965, 0.0768202031666996, 0.17924714072229905, 0.025606734388899866, 0.025606734388899866, 0.009660540488762127, 0.07728432391009701, 0.06762378342133489, 0.6472562127470625, 0.17388972879771827, 0.02898162146628638, 0.15321301149747268, 0.24356940289341808, 0.04714246507614544, 0.05892808134518179, 0.2003554765736181, 0.16499862776650903, 0.12964177895939996, 0.8155679712556534, 0.8725363654309869, 0.8716364172692445, 0.3727244865891057, 0.11226641162322461, 0.08083181636872172, 0.1437010068777275, 0.18411691506208835, 0.09430378576350867, 0.004490656464928984, 0.008981312929857968, 0.910845145576408, 0.18499726273428127, 0.7029895983902689, 0.07399890509371251, 0.20785352958836653, 0.02734914863004823, 0.05469829726009646, 0.10392676479418327, 0.1805043809583183, 0.2734914863004823, 0.10939659452019292, 0.03828880808206752, 0.11451738203843136, 0.2751598207312309, 0.008747855572380173, 0.25289255200153593, 0.216310610517037, 0.09463589210120368, 0.03737720108198801, 0.04719016870998841, 0.14157050612996525, 0.7550426993598146, 0.004964880259350751, 0.06454344337155975, 0.7943808414961201, 0.12412200648376875, 0.009929760518701501, 0.12744824486468345, 0.16993099315291127, 0.0708045804803797, 0.08496549657645563, 0.01416091609607594, 0.5168734375067717, 0.00708045804803797, 0.09886394069458865, 0.16065390362870655, 0.012357992586823581, 0.1359379184550594, 0.09886394069458865, 0.40781375536517817, 0.07414795552094149, 0.012357992586823581, 0.574399794022539, 0.0024865791949027667, 0.024865791949027667, 0.09449000940630513, 0.09697658860120789, 0.029838950338833197, 0.08703027182159682, 0.0895168510164996, 0.2788796566008462, 0.04290456255397634, 0.08580912510795267, 0.04290456255397634, 0.4826763287322338, 0.05363070319247042, 0.8956515896278543, 0.6798916253047944, 0.0693766964596729, 0.09712737504354206, 0.15262873221128037, 0.1880477481641989, 0.15043819853135912, 0.6393623437582762, 0.8933856202648272, 0.8748056390915604, 0.00875188403034981, 0.043759420151749044, 0.043759420151749044, 0.6913988383976349, 0.07001507224279847, 0.08751884030349809, 0.06126318821244866, 0.6612561633399826, 0.03889742137294015, 0.03241451781078346, 0.03241451781078346, 0.09076064987019368, 0.13614097480529053, 0.12498487154740896, 0.7186630113976016, 0.12498487154740896, 0.5807677015057368, 0.013827802416803255, 0.3318672580032781, 0.05531120966721302, 0.060809598588447034, 0.12161919717689407, 0.7905247816498114, 0.9720538672574156, 0.21758553848302822, 0.739790830842296, 0.8521266891164133, 0.8536337573792107, 0.9512095969383062, 0.9136119680922539, 0.6341767006114565, 0.16787030310303258, 0.11191353540202173, 0.07460902360134782, 0.8657713721625536, 0.1082214215203192, 0.8503518146094802, 0.13211947241746883, 0.32641281420786417, 0.02331520101484744, 0.03108693468646325, 0.06994560304454231, 0.27978241217816924, 0.13211947241746883, 0.007771733671615813, 0.8704511704982998, 0.09162643899982102, 0.9126267001394214, 0.9089994092628565, 0.8828804801296183, 0.07998254894216579, 0.0034775021279202516, 0.1078025659655278, 0.006955004255840503, 0.027820017023362013, 0.650292897921087, 0.1217125744772088, 0.11601319720680198, 0.05273327145763726, 0.3796795544949883, 0.326946283037351, 0.12655985149832943, 0.19041721564979777, 0.11717982501526017, 0.5126617344417632, 0.10253234688835265, 0.0732373906345376, 0.0785395951360435, 0.8639355464964784, 0.8696813432891121, 0.10076302215545013, 0.10076302215545013, 0.6448833417948808, 0.12091562658654016, 0.8741700774351706, 0.017465087468885115, 0.8557892859753706, 0.08732543734442558, 0.03493017493777023, 0.35143716836859157, 0.044951265721564035, 0.38004251928231414, 0.028605350913722568, 0.11442140365489027, 0.0735566166352866, 0.004086478701960367, 0.008172957403920733, 0.10177093598199333, 0.7938133006595479, 0.010177093598199334, 0.09159384238379399, 0.010177093598199334, 0.9013991651277724, 0.36532408345357725, 0.05281793977642081, 0.15405232434789404, 0.19806727416157804, 0.21127175910568324, 0.017605979925473605, 0.8424238135036349, 0.01707150807637414, 0.09560044522769519, 0.061457429074946904, 0.07852893715132105, 0.22534390660813863, 0.40971619383297936, 0.030728714537473452, 0.08194323876659587, 0.14918356292107157, 0.07459178146053579, 0.11188767219080367, 0.014918356292107157, 0.1044284940447501, 0.3282038384263575, 0.15664274106712514, 0.0671326033144822, 0.35906793784062807, 0.16897314721911907, 0.021121643402389884, 0.1647488185386411, 0.11405687437290538, 0.05914060152669168, 0.08448657360955954, 0.02957030076334584, 0.1977869186473918, 0.15443636113563472, 0.0027094098444848196, 0.09482934455696868, 0.005418819688969639, 0.5445913787414487, 0.14905506538245392, 0.07845003441181785, 0.18828008258836282, 0.08629503785299963, 0.05491502408827249, 0.3138001376472714, 0.09414004129418141, 0.03922501720590892, 0.11517677081592487, 0.1465886174020862, 0.08376492422976355, 0.11517677081592487, 0.5235307764360221, 0.8028814216264304, 0.18247305036964329, 0.018266946945343566, 0.7306778778137427, 0.20093641639877924, 0.03653389389068713, 0.8414445271070703, 0.16491831127223294, 0.006871596303009706, 0.11338133899966014, 0.003435798151504853, 0.31609342993844647, 0.27142805396888336, 0.1236887334541747, 0.9737806654986345, 0.050872316554144294, 0.6867762734809479, 0.07630847483121644, 0.050872316554144294, 0.12718079138536073, 0.754972397662473, 0.16177979949910137, 0.8863274929955092, 0.7725186973856729, 0.19312967434641823, 0.21915444526225414, 0.0821829169733453, 0.1643658339466906, 0.0821829169733453, 0.4520060433533991, 0.8358987106956157, 0.9270116566101686, 0.23134833346683564, 0.028918541683354455, 0.7229635420838614, 0.852803748364883, 0.044884407808678056, 0.08976881561735611, 0.712713558654682, 0.06897227986980795, 0.045981519913205295, 0.06897227986980795, 0.06897227986980795, 0.9360790823020638, 0.8776604332133942, 0.7384732273050744, 0.13846373011970145, 0.04615457670656715, 0.8691242765688688, 0.8195448152091668, 0.15884603081659635, 0.03834214536952326, 0.02190979735401329, 0.44915084575727243, 0.07120684140054319, 0.2574401189096562, 0.5986568751483106, 0.20643340522355536, 0.020643340522355533, 0.04128668104471107, 0.12386004313413321, 0.8226097658667666, 0.07711966555000938, 0.07711966555000938, 0.025706555183336456, 0.8637345294013141, 0.1603934061521529, 0.09842322650245745, 0.07655139839080025, 0.14945749209632428, 0.3827569919540012, 0.03280774216748582, 0.10206853118773365, 0.054035229788389254, 0.10807045957677851, 0.036023486525592834, 0.7925167035630424, 0.05460618045422192, 0.039004414610158515, 0.4446503265558071, 0.13261500967453896, 0.062407063376253624, 0.11701324383047555, 0.14821677551860235, 0.9127400341439982, 0.8114554902256746, 0.10143193627820933, 0.8364924404766865, 0.9401777193941444, 0.912752594632458, 0.8480644240520592, 0.03392257696208237, 0.1017677308862471, 0.9689326169255911, 0.7354864934998375, 0.25037838076590213, 0.015648648797868883, 0.2601325035908737, 0.17965985859513578, 0.5464654032268713, 0.005614370581097993, 0.0018714568603659977, 0.0037429137207319954, 0.0018714568603659977, 0.9473913718900359, 0.8384844168817033, 0.9172742378431895, 0.024235418280536526, 0.2908250193664383, 0.6543562935744862, 0.024235418280536526, 0.874064224589711, 0.8856314673287972, 0.4418909978336551, 0.09819799951859001, 0.12996794053931032, 0.10108617597501914, 0.11841523471359384, 0.023105411651432945, 0.05776352912858236, 0.02888176456429118, 0.638298782797129, 0.023640695659152926, 0.0945627826366117, 0.14184417395491755, 0.07092208697745878, 0.023640695659152926, 0.9391406997090254, 0.8986140828911278, 0.143239757985575, 0.3370347246719412, 0.15166562610237352, 0.02527760435039559, 0.15166562610237352, 0.19379496668636617, 0.9371290507324461, 0.09217339617405663, 0.8295605655665097, 0.13346543593566065, 0.02669308718713213, 0.19574930603896895, 0.1245677402066166, 0.03559078291617617, 0.3559078291617617, 0.08007926156139639, 0.05338617437426426, 0.954932795354468, 0.8956981946163626, 0.806250890125405, 0.9555393927516719, 0.07627791053314678, 0.8390570158646146, 0.9271487492182174, 0.12839163181284433, 0.06419581590642216, 0.23927531383302808, 0.043769874481651476, 0.14589958160550492, 0.32097907953211086, 0.02334393305688079, 0.035015899585321184, 0.9184499524132637, 0.020202128647104436, 0.18181915782393993, 0.7676808885899685, 0.05183831274697603, 0.9330896294455685, 0.33675229918235083, 0.429649485163689, 0.13934577897200726, 0.08128503773367089, 0.017165503973029305, 0.03433100794605861, 0.2746480635684689, 0.060079263905602566, 0.5492961271369378, 0.06866201589211722, 0.07359908990235299, 0.24533029967450998, 0.07009437133557428, 0.17757240738345484, 0.18224536547249312, 0.03504718566778714, 0.19743247926186755, 0.019860071878412714], \"Term\": [\"25\", \"6\", \"9\", \"a4\", \"aint\", \"aint\", \"aint\", \"aint\", \"aint\", \"alive\", \"alive\", \"alive\", \"alive\", \"alive\", \"always\", \"always\", \"always\", \"always\", \"always\", \"always\", \"always\", \"amazon\", \"anus\", \"anything\", \"anything\", \"anything\", \"anything\", \"anything\", \"anything\", \"anyway\", \"anyway\", \"anyway\", \"anywhere\", \"arent\", \"arent\", \"arent\", \"arent\", \"ass\", \"ass\", \"ass\", \"ass\", \"ass\", \"ass\", \"ass\", \"ass\", \"assassins\", \"asshole\", \"asshole\", \"asshole\", \"asshole\", \"asshole\", \"asshole\", \"asshole\", \"back\", \"back\", \"back\", \"back\", \"back\", \"back\", \"bait\", \"balls\", \"balls\", \"balls\", \"balls\", \"balls\", \"balls\", \"balls\", \"bam\", \"baseball\", \"bastard\", \"bastard\", \"bastard\", \"bastard\", \"bastard\", \"bastard\", \"battle\", \"bear\", \"beasts\", \"beaumont\", \"belly\", \"big\", \"big\", \"big\", \"big\", \"big\", \"big\", \"big\", \"bigass\", \"bill\", \"bird\", \"birthday\", \"bit\", \"bit\", \"bit\", \"bit\", \"bit\", \"bitch\", \"bitch\", \"bitch\", \"bitch\", \"bitch\", \"bitch\", \"bitch\", \"bitch\", \"bitches\", \"bitches\", \"bitches\", \"bitches\", \"biting\", \"black\", \"black\", \"black\", \"black\", \"black\", \"black\", \"black\", \"black\", \"blame\", \"blocks\", \"bomb\", \"bomb\", \"bored\", \"bottom\", \"bottom\", \"bouquet\", \"box\", \"box\", \"box\", \"brain\", \"brain\", \"brain\", \"brain\", \"brain\", \"brave\", \"bridge\", \"british\", \"british\", \"brought\", \"bullets\", \"bullshit\", \"bullshit\", \"bullshit\", \"bullshit\", \"bullshit\", \"bullshit\", \"bullshit\", \"burned\", \"burned\", \"burned\", \"business\", \"business\", \"business\", \"business\", \"business\", \"business\", \"busting\", \"call\", \"call\", \"call\", \"call\", \"call\", \"call\", \"calm\", \"calm\", \"cancer\", \"cant\", \"cant\", \"cant\", \"cant\", \"cant\", \"cant\", \"cant\", \"capitalism\", \"captured\", \"car\", \"car\", \"car\", \"car\", \"car\", \"career\", \"carpet\", \"carry\", \"catch\", \"catch\", \"catch\", \"cattle\", \"ceiling\", \"chart\", \"choke\", \"christ\", \"christ\", \"christ\", \"christian\", \"cocaine\", \"come\", \"come\", \"come\", \"come\", \"come\", \"come\", \"come\", \"come\", \"complete\", \"complete\", \"condition\", \"confidential\", \"cook\", \"cops\", \"cops\", \"cops\", \"cops\", \"cops\", \"cost\", \"coughed\", \"could\", \"could\", \"could\", \"could\", \"could\", \"could\", \"could\", \"could\", \"cousin\", \"cousin\", \"cousin\", \"coward\", \"cracked\", \"crap\", \"crap\", \"crap\", \"crap\", \"crap\", \"crap\", \"crap\", \"crazy\", \"crazy\", \"crazy\", \"crazy\", \"crazy\", \"crazy\", \"crazy\", \"crazy\", \"cream\", \"criminal\", \"criminals\", \"cum\", \"cunt\", \"cure\", \"cut\", \"cut\", \"cut\", \"cut\", \"cut\", \"cut\", \"cute\", \"cute\", \"daddy\", \"daddy\", \"daft\", \"dammit\", \"dammit\", \"damn\", \"damn\", \"damn\", \"damn\", \"damn\", \"damn\", \"damn\", \"damned\", \"damned\", \"damned\", \"damned\", \"damned\", \"damned\", \"damned\", \"damned\", \"dare\", \"dead\", \"dead\", \"dead\", \"dead\", \"dead\", \"dead\", \"death\", \"death\", \"death\", \"death\", \"death\", \"death\", \"death\", \"death\", \"democracy\", \"devil\", \"dick\", \"dick\", \"dick\", \"dick\", \"dick\", \"dick\", \"dick\", \"dickhead\", \"didnt\", \"didnt\", \"didnt\", \"didnt\", \"didnt\", \"didnt\", \"didnt\", \"die\", \"die\", \"die\", \"die\", \"die\", \"die\", \"die\", \"doesnt\", \"doesnt\", \"doesnt\", \"doesnt\", \"doesnt\", \"doesnt\", \"doesnt\", \"doin\", \"done\", \"done\", \"done\", \"done\", \"done\", \"dont\", \"dont\", \"dont\", \"dont\", \"dont\", \"dont\", \"dont\", \"dont\", \"dork\", \"dr\", \"dr\", \"dr\", \"dr\", \"drop\", \"drop\", \"dump\", \"dump\", \"dump\", \"e\", \"early\", \"easy\", \"easy\", \"easy\", \"eating\", \"eliminate\", \"empty\", \"empty\", \"ends\", \"enjoy\", \"erotic\", \"even\", \"even\", \"even\", \"even\", \"even\", \"even\", \"even\", \"even\", \"face\", \"face\", \"face\", \"face\", \"face\", \"face\", \"face\", \"fag\", \"fag\", \"failed\", \"faster\", \"fat\", \"fat\", \"fat\", \"fat\", \"fat\", \"fat\", \"fatass\", \"fear\", \"fear\", \"female\", \"find\", \"find\", \"find\", \"find\", \"find\", \"find\", \"finger\", \"finger\", \"fired\", \"first\", \"first\", \"first\", \"first\", \"first\", \"first\", \"first\", \"flew\", \"floor\", \"follow\", \"follow\", \"fool\", \"fool\", \"fool\", \"fool\", \"fool\", \"fool\", \"foolish\", \"foolish\", \"foolish\", \"foolish\", \"foolish\", \"foolish\", \"fools\", \"fools\", \"fools\", \"fools\", \"fools\", \"fools\", \"forget\", \"forget\", \"forget\", \"forgot\", \"forgot\", \"franco\", \"freaking\", \"freaking\", \"free\", \"free\", \"free\", \"freeze\", \"freeze\", \"friendly\", \"fuck\", \"fuck\", \"fuck\", \"fuck\", \"fuck\", \"fuck\", \"fuck\", \"fucked\", \"fucked\", \"fucked\", \"fucked\", \"fucked\", \"fucked\", \"fucked\", \"fuckers\", \"fuckin\", \"fuckin\", \"fuckin\", \"fuckin\", \"fuckin\", \"fuckin\", \"fucking\", \"fucking\", \"fucking\", \"fucking\", \"fucking\", \"fucking\", \"fucking\", \"fucking\", \"fucks\", \"fucks\", \"funny\", \"funny\", \"funny\", \"gangster\", \"garbage\", \"garbage\", \"garbage\", \"garbage\", \"garbage\", \"gay\", \"gay\", \"gay\", \"gay\", \"gedda\", \"get\", \"get\", \"get\", \"get\", \"get\", \"get\", \"get\", \"get\", \"ghosts\", \"gift\", \"girl\", \"girl\", \"girl\", \"girl\", \"girl\", \"girl\", \"girl\", \"girl\", \"girls\", \"girls\", \"girls\", \"girls\", \"give\", \"give\", \"give\", \"give\", \"give\", \"give\", \"gives\", \"gland\", \"go\", \"go\", \"go\", \"go\", \"go\", \"go\", \"go\", \"go\", \"god\", \"god\", \"god\", \"god\", \"god\", \"goddamn\", \"goddamn\", \"goddamn\", \"goddamn\", \"goddamn\", \"goddamn\", \"goddamn\", \"goddamn\", \"going\", \"going\", \"going\", \"going\", \"going\", \"going\", \"going\", \"going\", \"gon\", \"gon\", \"gon\", \"gon\", \"good\", \"good\", \"good\", \"good\", \"good\", \"good\", \"good\", \"good\", \"goodbye\", \"goofy\", \"gosh\", \"got\", \"got\", \"got\", \"got\", \"got\", \"got\", \"got\", \"got\", \"governors\", \"green\", \"green\", \"grotesque\", \"gun\", \"gun\", \"gun\", \"gun\", \"gun\", \"guys\", \"guys\", \"guys\", \"guys\", \"guys\", \"guys\", \"hand\", \"hand\", \"hand\", \"hand\", \"hand\", \"hand\", \"happened\", \"happened\", \"happened\", \"happier\", \"hard\", \"hard\", \"hard\", \"hard\", \"hard\", \"hard\", \"hard\", \"harder\", \"harvard\", \"hat\", \"hate\", \"hate\", \"hate\", \"hate\", \"hates\", \"havent\", \"havent\", \"havent\", \"havent\", \"head\", \"head\", \"head\", \"head\", \"head\", \"head\", \"head\", \"heck\", \"hell\", \"hell\", \"hell\", \"hell\", \"hell\", \"hell\", \"hells\", \"hells\", \"hells\", \"help\", \"help\", \"help\", \"help\", \"help\", \"help\", \"help\", \"help\", \"hes\", \"hes\", \"hes\", \"hes\", \"hes\", \"hes\", \"hes\", \"hes\", \"hey\", \"hey\", \"hey\", \"hey\", \"hey\", \"hey\", \"hide\", \"hideous\", \"hit\", \"hit\", \"hit\", \"hit\", \"hit\", \"hit\", \"hit\", \"hit\", \"hold\", \"hold\", \"hold\", \"hold\", \"hole\", \"hole\", \"hole\", \"holy\", \"holy\", \"holy\", \"homosexual\", \"horny\", \"horny\", \"hungry\", \"hurt\", \"hurt\", \"hurt\", \"hurts\", \"ianexo\", \"idea\", \"idea\", \"idea\", \"idea\", \"idea\", \"idea\", \"ill\", \"ill\", \"ill\", \"ill\", \"ill\", \"ill\", \"ill\", \"im\", \"im\", \"im\", \"im\", \"im\", \"im\", \"im\", \"im\", \"incompetent\", \"incompetent\", \"infected\", \"insurance\", \"ive\", \"ive\", \"ive\", \"ive\", \"ive\", \"ive\", \"ive\", \"ive\", \"jenny\", \"jesus\", \"jew\", \"jim\", \"jim\", \"job\", \"job\", \"job\", \"job\", \"job\", \"job\", \"joke\", \"joke\", \"joke\", \"joke\", \"juice\", \"keys\", \"kg\", \"kidding\", \"kill\", \"kill\", \"kill\", \"kill\", \"kill\", \"kill\", \"kill\", \"kill\", \"killed\", \"killed\", \"killed\", \"killed\", \"killed\", \"killed\", \"killing\", \"killing\", \"killing\", \"killing\", \"killing\", \"kind\", \"kind\", \"kind\", \"kind\", \"kind\", \"kind\", \"kind\", \"kiss\", \"kiss\", \"kiss\", \"kiss\", \"know\", \"know\", \"know\", \"know\", \"know\", \"know\", \"know\", \"know\", \"knowing\", \"knowwhat\", \"last\", \"last\", \"last\", \"last\", \"last\", \"last\", \"last\", \"laughed\", \"laughing\", \"lazy\", \"legs\", \"legs\", \"legs\", \"legs\", \"let\", \"let\", \"let\", \"let\", \"let\", \"let\", \"let\", \"let\", \"lets\", \"lets\", \"lets\", \"lets\", \"letters\", \"liars\", \"like\", \"like\", \"like\", \"like\", \"like\", \"like\", \"like\", \"like\", \"liked\", \"listen\", \"listen\", \"listen\", \"listened\", \"little\", \"little\", \"little\", \"little\", \"little\", \"little\", \"little\", \"little\", \"locker\", \"look\", \"look\", \"look\", \"look\", \"look\", \"look\", \"look\", \"loose\", \"loose\", \"loser\", \"loser\", \"loser\", \"loser\", \"loser\", \"loser\", \"loser\", \"losers\", \"losers\", \"losers\", \"lot\", \"lot\", \"lot\", \"lot\", \"lot\", \"lot\", \"lot\", \"lucy\", \"mad\", \"mad\", \"mad\", \"make\", \"make\", \"make\", \"make\", \"make\", \"make\", \"make\", \"make\", \"males\", \"mama\", \"mama\", \"man\", \"man\", \"man\", \"man\", \"man\", \"man\", \"man\", \"man\", \"marsellus\", \"matt\", \"matters\", \"maybe\", \"maybe\", \"maybe\", \"maybe\", \"maybe\", \"maybe\", \"maybe\", \"maybe\", \"mean\", \"mean\", \"mean\", \"mean\", \"mean\", \"mean\", \"mean\", \"measles\", \"mess\", \"mess\", \"message\", \"mind\", \"mind\", \"mind\", \"mind\", \"mind\", \"mind\", \"mole\", \"money\", \"money\", \"money\", \"money\", \"money\", \"money\", \"money\", \"money\", \"monkey\", \"monkey\", \"monkey\", \"monkeys\", \"morning\", \"morning\", \"morning\", \"morning\", \"morning\", \"move\", \"move\", \"move\", \"move\", \"much\", \"much\", \"much\", \"much\", \"much\", \"much\", \"much\", \"murder\", \"murder\", \"murder\", \"murder\", \"na\", \"na\", \"na\", \"na\", \"names\", \"natalie\", \"neck\", \"neck\", \"neck\", \"neck\", \"need\", \"need\", \"need\", \"need\", \"need\", \"need\", \"need\", \"need\", \"neither\", \"nerve\", \"never\", \"never\", \"never\", \"never\", \"never\", \"never\", \"never\", \"night\", \"night\", \"night\", \"night\", \"night\", \"night\", \"night\", \"night\", \"none\", \"none\", \"none\", \"none\", \"notion\", \"nuts\", \"nuts\", \"oh\", \"oh\", \"oh\", \"oh\", \"oh\", \"oh\", \"oh\", \"oil\", \"ok\", \"ok\", \"ok\", \"okay\", \"okay\", \"okay\", \"okay\", \"okay\", \"okay\", \"old\", \"old\", \"old\", \"old\", \"old\", \"old\", \"old\", \"old\", \"one\", \"one\", \"one\", \"one\", \"one\", \"one\", \"one\", \"one\", \"outta\", \"owe\", \"packing\", \"pair\", \"panties\", \"paranoid\", \"pathetic\", \"pathetic\", \"pathetic\", \"pathetic\", \"paul\", \"paul\", \"people\", \"people\", \"people\", \"people\", \"people\", \"people\", \"people\", \"people\", \"pictures\", \"piece\", \"piece\", \"piece\", \"piece\", \"pig\", \"pig\", \"pig\", \"pig\", \"pig\", \"pigeon\", \"piss\", \"piss\", \"piss\", \"place\", \"place\", \"place\", \"place\", \"place\", \"plans\", \"played\", \"poison\", \"polio\", \"poor\", \"poor\", \"poor\", \"poor\", \"poor\", \"poor\", \"powerful\", \"powerful\", \"pox\", \"prattles\", \"present\", \"prick\", \"probably\", \"probably\", \"probably\", \"probably\", \"probably\", \"problem\", \"problem\", \"problem\", \"problem\", \"prostitute\", \"prostitutes\", \"protect\", \"pull\", \"pull\", \"pull\", \"pulling\", \"pulling\", \"punch\", \"punished\", \"puppet\", \"purpose\", \"purpose\", \"purpose\", \"pussy\", \"pussy\", \"pussy\", \"pussy\", \"pussy\", \"pussy\", \"pussy\", \"put\", \"put\", \"put\", \"put\", \"put\", \"put\", \"put\", \"put\", \"puts\", \"quarterback\", \"questions\", \"rats\", \"rats\", \"real\", \"real\", \"real\", \"real\", \"real\", \"really\", \"really\", \"really\", \"really\", \"really\", \"really\", \"really\", \"recognize\", \"records\", \"remind\", \"remove\", \"reputation\", \"respect\", \"revolutionary\", \"rick\", \"rid\", \"rid\", \"rid\", \"rid\", \"ridiculous\", \"ridiculous\", \"ridiculous\", \"ridiculous\", \"ridiculous\", \"ridiculous\", \"right\", \"right\", \"right\", \"right\", \"right\", \"right\", \"right\", \"right\", \"robot\", \"ron\", \"row\", \"run\", \"run\", \"run\", \"run\", \"said\", \"said\", \"said\", \"said\", \"said\", \"said\", \"said\", \"said\", \"sake\", \"say\", \"say\", \"say\", \"say\", \"say\", \"say\", \"say\", \"scared\", \"scared\", \"scared\", \"scared\", \"scary\", \"scotty\", \"screw\", \"screw\", \"screw\", \"screw\", \"screw\", \"screw\", \"screwed\", \"screwed\", \"screwed\", \"screwed\", \"screwed\", \"screwed\", \"see\", \"see\", \"see\", \"see\", \"see\", \"see\", \"see\", \"seize\", \"selfish\", \"serve\", \"sex\", \"sex\", \"sex\", \"sex\", \"sex\", \"sex\", \"sex\", \"sex\", \"shake\", \"shame\", \"shame\", \"shame\", \"shes\", \"shes\", \"shes\", \"shes\", \"shes\", \"shes\", \"shes\", \"shes\", \"shit\", \"shit\", \"shit\", \"shit\", \"shit\", \"shit\", \"shit\", \"shitting\", \"shitting\", \"shitting\", \"shoot\", \"shoot\", \"shoot\", \"shoot\", \"shoot\", \"shot\", \"shot\", \"shot\", \"shot\", \"shot\", \"shot\", \"shot\", \"show\", \"show\", \"show\", \"show\", \"show\", \"show\", \"show\", \"show\", \"shut\", \"shut\", \"shut\", \"shut\", \"shut\", \"shut\", \"shut\", \"shut\", \"silly\", \"silly\", \"silly\", \"silly\", \"silly\", \"silly\", \"singing\", \"sit\", \"sit\", \"sit\", \"sit\", \"six\", \"six\", \"six\", \"smells\", \"someday\", \"someone\", \"someone\", \"someone\", \"someone\", \"someone\", \"someone\", \"someone\", \"something\", \"something\", \"something\", \"something\", \"something\", \"something\", \"sometimes\", \"sometimes\", \"sometimes\", \"sorry\", \"sorry\", \"sorry\", \"sorry\", \"soul\", \"soul\", \"soul\", \"sound\", \"sounds\", \"sounds\", \"soup\", \"spaz\", \"spider\", \"spit\", \"stay\", \"stay\", \"stay\", \"stay\", \"stayed\", \"stayed\", \"stealing\", \"still\", \"still\", \"still\", \"still\", \"still\", \"still\", \"still\", \"still\", \"stink\", \"stink\", \"stinks\", \"straight\", \"strap\", \"stupid\", \"stupid\", \"stupid\", \"stupid\", \"stupid\", \"stupid\", \"stupid\", \"suck\", \"suck\", \"suck\", \"suck\", \"suck\", \"sucks\", \"sucks\", \"sucks\", \"sucks\", \"sucks\", \"suffer\", \"suffer\", \"sugar\", \"supposed\", \"supposed\", \"supposed\", \"supposed\", \"sweet\", \"ta\", \"ta\", \"ta\", \"ta\", \"take\", \"take\", \"take\", \"take\", \"take\", \"take\", \"take\", \"take\", \"talking\", \"talking\", \"talking\", \"talking\", \"talking\", \"ted\", \"tell\", \"tell\", \"tell\", \"tell\", \"tell\", \"tell\", \"testicle\", \"thats\", \"thats\", \"thats\", \"thats\", \"thats\", \"thats\", \"thats\", \"thats\", \"theres\", \"theres\", \"theres\", \"theres\", \"theres\", \"theres\", \"theres\", \"theres\", \"thing\", \"thing\", \"thing\", \"thing\", \"thing\", \"thing\", \"thing\", \"thing\", \"think\", \"think\", \"think\", \"think\", \"think\", \"think\", \"thought\", \"thought\", \"thought\", \"thought\", \"thought\", \"thought\", \"thought\", \"thought\", \"three\", \"three\", \"three\", \"three\", \"three\", \"throat\", \"throat\", \"throw\", \"throw\", \"throw\", \"throw\", \"tiger\", \"time\", \"time\", \"time\", \"time\", \"time\", \"time\", \"time\", \"tired\", \"tits\", \"tits\", \"tits\", \"tits\", \"tits\", \"tom\", \"tom\", \"tommy\", \"tonight\", \"tonight\", \"took\", \"took\", \"took\", \"took\", \"took\", \"tools\", \"tortured\", \"touch\", \"touch\", \"touch\", \"traitor\", \"traitor\", \"traitor\", \"trash\", \"trash\", \"trash\", \"trash\", \"trash\", \"tricking\", \"troll\", \"truth\", \"truth\", \"truth\", \"turkey\", \"twat\", \"two\", \"two\", \"two\", \"two\", \"two\", \"two\", \"ugly\", \"ugly\", \"ugly\", \"ugly\", \"ugly\", \"understand\", \"understand\", \"understand\", \"understand\", \"united\", \"us\", \"us\", \"us\", \"us\", \"us\", \"us\", \"us\", \"used\", \"used\", \"used\", \"used\", \"useless\", \"useless\", \"useless\", \"useless\", \"useless\", \"useless\", \"useless\", \"vampire\", \"victim\", \"victim\", \"violence\", \"virgins\", \"waited\", \"walk\", \"walk\", \"walk\", \"wallace\", \"wan\", \"wan\", \"wan\", \"want\", \"want\", \"want\", \"want\", \"want\", \"want\", \"want\", \"warned\", \"ways\", \"weapon\", \"week\", \"week\", \"week\", \"week\", \"weil\", \"welcome\", \"well\", \"well\", \"well\", \"well\", \"well\", \"well\", \"well\", \"well\", \"whatever\", \"whatever\", \"whatever\", \"whatever\", \"whatever\", \"whatever\", \"wheels\", \"whine\", \"whole\", \"whole\", \"whole\", \"whole\", \"whole\", \"whole\", \"win\", \"wine\", \"wine\", \"woman\", \"woman\", \"woman\", \"woman\", \"woman\", \"woman\", \"woman\", \"woman\", \"wondered\", \"wooden\", \"wore\", \"working\", \"worry\", \"worry\", \"worship\", \"would\", \"would\", \"would\", \"would\", \"would\", \"would\", \"would\", \"would\", \"wow\", \"wrong\", \"wrong\", \"wrong\", \"yo\", \"yo\", \"youd\", \"youd\", \"youd\", \"youd\", \"youll\", \"youll\", \"youll\", \"youll\", \"youll\", \"youll\", \"youre\", \"youre\", \"youre\", \"youre\", \"youre\", \"youre\", \"youre\", \"youre\"]}, \"R\": 30, \"lambda.step\": 0.01, \"plot.opts\": {\"xlab\": \"PC1\", \"ylab\": \"PC2\"}, \"topic.order\": [8, 2, 1, 5, 3, 4, 6, 7]};\n",
       "\n",
       "function LDAvis_load_lib(url, callback){\n",
       "  var s = document.createElement('script');\n",
       "  s.src = url;\n",
       "  s.async = true;\n",
       "  s.onreadystatechange = s.onload = callback;\n",
       "  s.onerror = function(){console.warn(\"failed to load library \" + url);};\n",
       "  document.getElementsByTagName(\"head\")[0].appendChild(s);\n",
       "}\n",
       "\n",
       "if(typeof(LDAvis) !== \"undefined\"){\n",
       "   // already loaded: just create the visualization\n",
       "   !function(LDAvis){\n",
       "       new LDAvis(\"#\" + \"ldavis_el706293140130285381984367903847\", ldavis_el706293140130285381984367903847_data);\n",
       "   }(LDAvis);\n",
       "}else if(typeof define === \"function\" && define.amd){\n",
       "   // require.js is available: use it to load d3/LDAvis\n",
       "   require.config({paths: {d3: \"https://d3js.org/d3.v5\"}});\n",
       "   require([\"d3\"], function(d3){\n",
       "      window.d3 = d3;\n",
       "      LDAvis_load_lib(\"https://cdn.jsdelivr.net/gh/bmabey/pyLDAvis@3.4.0/pyLDAvis/js/ldavis.v3.0.0.js\", function(){\n",
       "        new LDAvis(\"#\" + \"ldavis_el706293140130285381984367903847\", ldavis_el706293140130285381984367903847_data);\n",
       "      });\n",
       "    });\n",
       "}else{\n",
       "    // require.js not available: dynamically load d3 & LDAvis\n",
       "    LDAvis_load_lib(\"https://d3js.org/d3.v5.js\", function(){\n",
       "         LDAvis_load_lib(\"https://cdn.jsdelivr.net/gh/bmabey/pyLDAvis@3.4.0/pyLDAvis/js/ldavis.v3.0.0.js\", function(){\n",
       "                 new LDAvis(\"#\" + \"ldavis_el706293140130285381984367903847\", ldavis_el706293140130285381984367903847_data);\n",
       "            })\n",
       "         });\n",
       "}\n",
       "</script>"
      ],
      "text/plain": [
       "PreparedData(topic_coordinates=              x         y  topics  cluster       Freq\n",
       "topic                                                \n",
       "7     -0.033247  0.040691       1        1  15.642199\n",
       "1     -0.010461  0.100365       2        1  13.118245\n",
       "0     -0.009170 -0.071510       3        1  12.909794\n",
       "4     -0.172691 -0.002528       4        1  12.804720\n",
       "2      0.150336 -0.010417       5        1  12.744792\n",
       "3      0.068879  0.013330       6        1  11.131268\n",
       "5      0.011541  0.095380       7        1  10.929592\n",
       "6     -0.005187 -0.165313       8        1  10.719389, topic_info=     Term        Freq        Total Category  logprob  loglift\n",
       "72   fuck  795.000000   795.000000  Default  30.0000  30.0000\n",
       "148  hell  683.000000   683.000000  Default  29.0000  29.0000\n",
       "177   get  834.000000   834.000000  Default  28.0000  28.0000\n",
       "160    na  553.000000   553.000000  Default  27.0000  27.0000\n",
       "129  damn  820.000000   820.000000  Default  26.0000  26.0000\n",
       "..    ...         ...          ...      ...      ...      ...\n",
       "0    kill   50.920881   380.730090   Topic8  -5.3621   0.2213\n",
       "104   got   41.308780   434.123580   Topic8  -5.5713  -0.1191\n",
       "72   fuck   46.454974   795.358457   Topic8  -5.4539  -0.6072\n",
       "23   shit   47.311108  1257.451030   Topic8  -5.4356  -1.0470\n",
       "77   time   35.969755   291.053186   Topic8  -5.7097   0.1423\n",
       "\n",
       "[629 rows x 6 columns], token_table=       Topic      Freq   Term\n",
       "term                         \n",
       "7571       5  0.877836     25\n",
       "4008       5  0.939567      6\n",
       "275        2  0.760140      9\n",
       "11359      1  0.850534     a4\n",
       "317        1  0.827858   aint\n",
       "...      ...       ...    ...\n",
       "31         4  0.177572  youre\n",
       "31         5  0.182245  youre\n",
       "31         6  0.035047  youre\n",
       "31         7  0.197432  youre\n",
       "31         8  0.019860  youre\n",
       "\n",
       "[1594 rows x 3 columns], R=30, lambda_step=0.01, plot_opts={'xlab': 'PC1', 'ylab': 'PC2'}, topic_order=[8, 2, 1, 5, 3, 4, 6, 7])"
      ]
     },
     "execution_count": 49,
     "metadata": {},
     "output_type": "execute_result"
    }
   ],
   "source": [
    "plot_lda_vis(lda_model, bow_corpus, dic)"
   ]
  },
  {
   "cell_type": "markdown",
   "metadata": {},
   "source": [
    "Unfortunately, the author failed to interpret found categories, and does it seems "
   ]
  },
  {
   "cell_type": "markdown",
   "metadata": {},
   "source": [
    "Finally, let's analyse the word cloud for the preprocessed dataset:"
   ]
  },
  {
   "cell_type": "code",
   "execution_count": null,
   "metadata": {},
   "outputs": [],
   "source": [
    "raw_img = visualize_ref_and_trans(preprocessed_df['reference'], preprocessed_df['translation'], save=True, fname='raw_wordcloud.png')"
   ]
  },
  {
   "cell_type": "markdown",
   "metadata": {},
   "source": [
    "![](image/raw_wordcloud.png)"
   ]
  },
  {
   "cell_type": "markdown",
   "metadata": {},
   "source": [
    "As one could see, the word cloud for the detoxified sentences now contain fewer bad words."
   ]
  },
  {
   "cell_type": "markdown",
   "metadata": {},
   "source": [
    "# Saving the result"
   ]
  },
  {
   "cell_type": "markdown",
   "metadata": {},
   "source": [
    "Now let's save the result as `Dataset` class from HuggingFace and push it to their cloud:"
   ]
  },
  {
   "cell_type": "code",
   "execution_count": 9,
   "metadata": {},
   "outputs": [],
   "source": [
    "import sys\n",
    "sys.path.append('../../src/data/')\n",
    "import make_dataset"
   ]
  },
  {
   "cell_type": "code",
   "execution_count": 12,
   "metadata": {},
   "outputs": [
    {
     "data": {
      "application/vnd.jupyter.widget-view+json": {
       "model_id": "806d4d6ada4b48c993a36a442e4c701c",
       "version_major": 2,
       "version_minor": 0
      },
      "text/plain": [
       "Pushing dataset shards to the dataset hub:   0%|          | 0/1 [00:00<?, ?it/s]"
      ]
     },
     "metadata": {},
     "output_type": "display_data"
    },
    {
     "data": {
      "application/vnd.jupyter.widget-view+json": {
       "model_id": "5ff572bfbb644d2eaf7216b5dc2839d2",
       "version_major": 2,
       "version_minor": 0
      },
      "text/plain": [
       "Pushing dataset shards to the dataset hub:   0%|          | 0/1 [00:00<?, ?it/s]"
      ]
     },
     "metadata": {},
     "output_type": "display_data"
    },
    {
     "data": {
      "application/vnd.jupyter.widget-view+json": {
       "model_id": "7fe30a4c6266406a99bbcfe771940472",
       "version_major": 2,
       "version_minor": 0
      },
      "text/plain": [
       "Downloading metadata:   0%|          | 0.00/613 [00:00<?, ?B/s]"
      ]
     },
     "metadata": {},
     "output_type": "display_data"
    },
    {
     "data": {
      "application/vnd.jupyter.widget-view+json": {
       "model_id": "79db88d1ae0e490a8971f492932aeb6c",
       "version_major": 2,
       "version_minor": 0
      },
      "text/plain": [
       "Saving the dataset (0/1 shards):   0%|          | 0/319523 [00:00<?, ? examples/s]"
      ]
     },
     "metadata": {},
     "output_type": "display_data"
    },
    {
     "data": {
      "application/vnd.jupyter.widget-view+json": {
       "model_id": "56a9daee3d144687a28014648c6e5bf6",
       "version_major": 2,
       "version_minor": 0
      },
      "text/plain": [
       "Saving the dataset (0/1 shards):   0%|          | 0/35503 [00:00<?, ? examples/s]"
      ]
     },
     "metadata": {},
     "output_type": "display_data"
    }
   ],
   "source": [
    "dataset = make_dataset.ParaNMTDataset(\n",
    "    lazy_init=True\n",
    ")\n",
    "hf_dataset = dataset.split_dataset(\n",
    "    preprocessed_df, \n",
    "    load_whole_ds=True, \n",
    "    save_arrow=True, \n",
    "    fdir = '../../data/interim/'\n",
    ")"
   ]
  },
  {
   "cell_type": "code",
   "execution_count": 13,
   "metadata": {},
   "outputs": [
    {
     "data": {
      "application/vnd.jupyter.widget-view+json": {
       "model_id": "cc11087cdbee4df192874d22bcd8f0f0",
       "version_major": 2,
       "version_minor": 0
      },
      "text/plain": [
       "Pushing dataset shards to the dataset hub:   0%|          | 0/1 [00:00<?, ?it/s]"
      ]
     },
     "metadata": {},
     "output_type": "display_data"
    },
    {
     "data": {
      "application/vnd.jupyter.widget-view+json": {
       "model_id": "1e4085aedfd44604bec1cb84513dadfb",
       "version_major": 2,
       "version_minor": 0
      },
      "text/plain": [
       "Pushing dataset shards to the dataset hub:   0%|          | 0/1 [00:00<?, ?it/s]"
      ]
     },
     "metadata": {},
     "output_type": "display_data"
    },
    {
     "data": {
      "application/vnd.jupyter.widget-view+json": {
       "model_id": "75b9bae61e244d3da443723e72b3ea62",
       "version_major": 2,
       "version_minor": 0
      },
      "text/plain": [
       "Downloading metadata:   0%|          | 0.00/606 [00:00<?, ?B/s]"
      ]
     },
     "metadata": {},
     "output_type": "display_data"
    }
   ],
   "source": [
    "hf_dataset.push_to_hub('domrachev03/toxic_comments_subset')"
   ]
  },
  {
   "cell_type": "markdown",
   "metadata": {},
   "source": [
    "Done! Now by running `dataset = datasets.load_dataset('domrachev03/toxic_comments_subset')` anyone could get access to the postprocessed data!"
   ]
  },
  {
   "cell_type": "code",
   "execution_count": 15,
   "metadata": {},
   "outputs": [],
   "source": [
    "import datasets"
   ]
  },
  {
   "cell_type": "code",
   "execution_count": 18,
   "metadata": {},
   "outputs": [],
   "source": [
    "def map_fn(examples: datasets.Dataset):\n",
    "    B_INST, E_INST = \"[INST] \", \" [/INST]\"\n",
    "    B_SYS, E_SYS = \"<<SYS>>\\n\", \"\\n<</SYS>>\\n\\n\"\n",
    "    inputs = [\n",
    "        B_INST\n",
    "        + B_SYS\n",
    "        + \"You are a Twitch moderator that paraphrases sentences to be non-toxic.\\n\"\n",
    "        + E_SYS\n",
    "        + \"Could you paraphrase this: \"\n",
    "        + ref\n",
    "        + \"?\\n\"\n",
    "        + E_INST\n",
    "       for ref in examples\n",
    "    ]\n",
    "    \n",
    "    return inputs"
   ]
  },
  {
   "cell_type": "code",
   "execution_count": 19,
   "metadata": {},
   "outputs": [
    {
     "data": {
      "text/plain": [
       "[\"[INST] <<SYS>>\\nYou are a Twitch moderator that paraphrases sentences to be non-toxic.\\n\\n<</SYS>>\\n\\nCould you paraphrase this: Fuck this shit, I'm out?\\n [/INST]\"]"
      ]
     },
     "execution_count": 19,
     "metadata": {},
     "output_type": "execute_result"
    }
   ],
   "source": [
    "map_fn([\"Fuck this shit, I'm out\"])"
   ]
  },
  {
   "cell_type": "code",
   "execution_count": null,
   "metadata": {},
   "outputs": [],
   "source": [
    "\"[INST] <<SYS>>\\nYou are a Twitch moderator that paraphrases sentences to be non-toxic.\\n\\n<</SYS>>\\n\\nCould you paraphrase this: Fuck this shit, I'm out?\\n [/INST]\""
   ]
  }
 ],
 "metadata": {
  "kernelspec": {
   "display_name": "ml_courses",
   "language": "python",
   "name": "python3"
  },
  "language_info": {
   "codemirror_mode": {
    "name": "ipython",
    "version": 3
   },
   "file_extension": ".py",
   "mimetype": "text/x-python",
   "name": "python",
   "nbconvert_exporter": "python",
   "pygments_lexer": "ipython3",
   "version": "3.11.4"
  }
 },
 "nbformat": 4,
 "nbformat_minor": 2
}
